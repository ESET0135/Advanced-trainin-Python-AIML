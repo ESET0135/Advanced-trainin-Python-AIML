{
 "cells": [
  {
   "cell_type": "code",
   "execution_count": null,
   "id": "6672889a-dc20-4451-853b-52d4a722aea9",
   "metadata": {},
   "outputs": [],
   "source": [
    "# Task 1 : Write code to find frequency of each word in the given PARA "
   ]
  },
  {
   "cell_type": "code",
   "execution_count": 112,
   "id": "653827c6-6364-43f5-a3aa-cf9a61021827",
   "metadata": {},
   "outputs": [
    {
     "name": "stdout",
     "output_type": "stream",
     "text": [
      "{'hello': 2, 'I': 1, 'am': 1, 'shubham': 1, 'thanks': 1}\n"
     ]
    }
   ],
   "source": [
    "sent=\"hello I am shubham thanks hello\"\n",
    "x={}\n",
    "sent.lower()\n",
    "sent=sent.split()\n",
    "for i in sent:\n",
    "    if i in x:\n",
    "        x[i]=x[i]+1\n",
    "    else:\n",
    "        x[i]=1\n",
    "print(x)"
   ]
  },
  {
   "cell_type": "code",
   "execution_count": null,
   "id": "4d0bc561-cba2-4c18-9aa7-0aff427827f9",
   "metadata": {},
   "outputs": [],
   "source": [
    "# Task 2 : Create a list of tuples contatining the students names and marks sort them in decendind order of marks using lamba"
   ]
  },
  {
   "cell_type": "code",
   "execution_count": 111,
   "id": "be603c91-4ce4-44a2-bcc1-a97629219936",
   "metadata": {},
   "outputs": [
    {
     "name": "stdout",
     "output_type": "stream",
     "text": [
      "[('D', 111), ('A', 105), ('C', 101), ('B', 100)]\n"
     ]
    }
   ],
   "source": [
    "records = [('A',105),('B',100),('C',101),('D',111)]\n",
    "records.sort(key = lambda x : x[1],reverse = True)\n",
    "print(records)"
   ]
  },
  {
   "cell_type": "code",
   "execution_count": null,
   "id": "fee46522-bcf1-4cc7-a4d9-a90247c112ab",
   "metadata": {},
   "outputs": [],
   "source": [
    "# Task 3 : write a program to flatten the nested list using the recursion"
   ]
  },
  {
   "cell_type": "code",
   "execution_count": 110,
   "id": "95e6007c-4ba2-4c72-8fc1-c8c02f50a842",
   "metadata": {},
   "outputs": [
    {
     "name": "stdout",
     "output_type": "stream",
     "text": [
      "[1, 3, 5, 7, 6, 37, 63, 32, 26, 43, 53, 25]\n"
     ]
    }
   ],
   "source": [
    "x=[1,3,[5,7,[6,37,[63,[32,26],[43,53]],25]]]\n",
    "x_flat=[]\n",
    "def flatten(x):\n",
    "    for i in range(len(x)):\n",
    "        if (str(type(x[i]))==\"<class 'int'>\"):\n",
    "            x_flat.append(x[i])\n",
    "        else:\n",
    "            flatten(x[i])\n",
    "            if i>=len(x):\n",
    "                return\n",
    "\n",
    "flatten(x)\n",
    "print(x_flat)"
   ]
  }
 ],
 "metadata": {
  "kernelspec": {
   "display_name": "Python 3 (ipykernel)",
   "language": "python",
   "name": "python3"
  },
  "language_info": {
   "codemirror_mode": {
    "name": "ipython",
    "version": 3
   },
   "file_extension": ".py",
   "mimetype": "text/x-python",
   "name": "python",
   "nbconvert_exporter": "python",
   "pygments_lexer": "ipython3",
   "version": "3.13.5"
  }
 },
 "nbformat": 4,
 "nbformat_minor": 5
}
