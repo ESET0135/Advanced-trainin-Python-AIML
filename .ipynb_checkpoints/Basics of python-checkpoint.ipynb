{
 "cells": [
  {
   "cell_type": "markdown",
   "id": "e6f63868-9455-4ec3-9b94-1e743398c9a3",
   "metadata": {},
   "source": [
    "# Variable"
   ]
  },
  {
   "cell_type": "code",
   "execution_count": 2,
   "id": "716d974e-1a2c-493c-825a-cd87890db997",
   "metadata": {},
   "outputs": [],
   "source": [
    "a=12\n",
    "b=42.432\n",
    "c=\"asd\"\n"
   ]
  },
  {
   "cell_type": "code",
   "execution_count": 3,
   "id": "c24cc1fd-6963-4fef-9848-cb9a93c297a8",
   "metadata": {},
   "outputs": [
    {
     "data": {
      "text/plain": [
       "int"
      ]
     },
     "execution_count": 3,
     "metadata": {},
     "output_type": "execute_result"
    }
   ],
   "source": [
    "type(a)"
   ]
  },
  {
   "cell_type": "code",
   "execution_count": 6,
   "id": "467a4731-d23d-48be-af69-813601024141",
   "metadata": {},
   "outputs": [
    {
     "data": {
      "text/plain": [
       "float"
      ]
     },
     "execution_count": 6,
     "metadata": {},
     "output_type": "execute_result"
    }
   ],
   "source": [
    "type(b)"
   ]
  },
  {
   "cell_type": "code",
   "execution_count": 5,
   "id": "51a411ae-6765-4f2f-a0fb-98a241ab364f",
   "metadata": {},
   "outputs": [
    {
     "data": {
      "text/plain": [
       "str"
      ]
     },
     "execution_count": 5,
     "metadata": {},
     "output_type": "execute_result"
    }
   ],
   "source": [
    "type(c)"
   ]
  },
  {
   "cell_type": "markdown",
   "id": "d38cccf1-7579-495e-b157-a4684d5fbc4c",
   "metadata": {},
   "source": [
    "# Numbers"
   ]
  },
  {
   "cell_type": "code",
   "execution_count": 7,
   "id": "b23563a3-ee65-4a9e-af5b-dad49ca2b87d",
   "metadata": {},
   "outputs": [
    {
     "name": "stdout",
     "output_type": "stream",
     "text": [
      "46\n"
     ]
    }
   ],
   "source": [
    "k=12\n",
    "d=34\n",
    "print(k+d)"
   ]
  },
  {
   "cell_type": "code",
   "execution_count": 8,
   "id": "370aec46-ee32-4476-8077-e031a9d5ce51",
   "metadata": {},
   "outputs": [
    {
     "name": "stdout",
     "output_type": "stream",
     "text": [
      "4922235242952026704037113243122008064\n"
     ]
    }
   ],
   "source": [
    "print(k**d)"
   ]
  },
  {
   "cell_type": "code",
   "execution_count": 9,
   "id": "ff654558-4889-484d-833f-fbb37622d9fc",
   "metadata": {},
   "outputs": [
    {
     "name": "stdout",
     "output_type": "stream",
     "text": [
      "-22\n"
     ]
    }
   ],
   "source": [
    "print(k-d)"
   ]
  },
  {
   "cell_type": "markdown",
   "id": "ffd56057-bb16-41a9-a5ba-c29e7932c45a",
   "metadata": {},
   "source": [
    "# boolean\n",
    "\n"
   ]
  },
  {
   "cell_type": "code",
   "execution_count": 12,
   "id": "5e4cc1da-a350-4dca-b7be-8c6ba8450bb9",
   "metadata": {},
   "outputs": [],
   "source": [
    "t,f=True,False"
   ]
  },
  {
   "cell_type": "code",
   "execution_count": 14,
   "id": "d21470b7-0dfe-4347-bc93-4dd4fe29867c",
   "metadata": {},
   "outputs": [
    {
     "name": "stdout",
     "output_type": "stream",
     "text": [
      "True <class 'bool'>\n"
     ]
    }
   ],
   "source": [
    "print(t,type(t))"
   ]
  },
  {
   "cell_type": "code",
   "execution_count": 15,
   "id": "3da5490d-9d0b-44db-b19c-821798eeca3d",
   "metadata": {},
   "outputs": [
    {
     "name": "stdout",
     "output_type": "stream",
     "text": [
      "False\n"
     ]
    }
   ],
   "source": [
    "print(t and f)"
   ]
  },
  {
   "cell_type": "code",
   "execution_count": 16,
   "id": "037e33ef-2032-40c1-9152-2715125a4d61",
   "metadata": {},
   "outputs": [
    {
     "name": "stdout",
     "output_type": "stream",
     "text": [
      "False\n"
     ]
    }
   ],
   "source": [
    "print(f or f)"
   ]
  },
  {
   "cell_type": "markdown",
   "id": "3e21eeca-3498-4145-a305-57eba27da911",
   "metadata": {},
   "source": [
    "# strings"
   ]
  },
  {
   "cell_type": "code",
   "execution_count": 19,
   "id": "b72f3224-f460-4d64-9e90-65ca8ef7a938",
   "metadata": {},
   "outputs": [],
   "source": [
    "hello=\"adsa\"\n",
    "world=\"asfnskjd\"\n"
   ]
  },
  {
   "cell_type": "code",
   "execution_count": 24,
   "id": "1d3a6daa-d01c-423f-b51a-73663860f096",
   "metadata": {},
   "outputs": [
    {
     "name": "stdout",
     "output_type": "stream",
     "text": [
      "adsa , asfnskjd\n"
     ]
    }
   ],
   "source": [
    "print(hello,\",\",world)"
   ]
  },
  {
   "cell_type": "code",
   "execution_count": 29,
   "id": "93ffb215-8804-414d-b163-25a06040bc36",
   "metadata": {},
   "outputs": [],
   "source": [
    "format='{}{} {}'.format(hello,\",\",world)"
   ]
  },
  {
   "cell_type": "code",
   "execution_count": 30,
   "id": "ca96d64a-564d-4204-94eb-7a2165437fed",
   "metadata": {},
   "outputs": [
    {
     "name": "stdout",
     "output_type": "stream",
     "text": [
      "adsa, asfnskjd\n"
     ]
    }
   ],
   "source": [
    "print(format)"
   ]
  },
  {
   "cell_type": "code",
   "execution_count": 32,
   "id": "63da8cfb-b30d-4f51-8102-43a8463686f2",
   "metadata": {},
   "outputs": [],
   "source": [
    "s=\"sdgbG\""
   ]
  },
  {
   "cell_type": "code",
   "execution_count": 33,
   "id": "0939e0fb-de33-4956-a3a6-99ee562974e7",
   "metadata": {},
   "outputs": [
    {
     "name": "stdout",
     "output_type": "stream",
     "text": [
      "SDGBG\n"
     ]
    }
   ],
   "source": [
    "print(s.upper())"
   ]
  },
  {
   "cell_type": "code",
   "execution_count": 34,
   "id": "e47f4b65-fdbe-408b-ab26-e75a1d7a6e60",
   "metadata": {},
   "outputs": [
    {
     "name": "stdout",
     "output_type": "stream",
     "text": [
      "sdgbg\n"
     ]
    }
   ],
   "source": [
    "print(s.lower())"
   ]
  },
  {
   "cell_type": "code",
   "execution_count": 35,
   "id": "bf4e31a6-8014-461f-88f6-266f083b98d0",
   "metadata": {},
   "outputs": [
    {
     "name": "stdout",
     "output_type": "stream",
     "text": [
      "  sdgbG\n"
     ]
    }
   ],
   "source": [
    "print(s.rjust(7))"
   ]
  },
  {
   "cell_type": "code",
   "execution_count": 38,
   "id": "5bbed9ac-e48f-422c-85bc-ff709de8984d",
   "metadata": {},
   "outputs": [
    {
     "name": "stdout",
     "output_type": "stream",
     "text": [
      " sdgbG \n"
     ]
    }
   ],
   "source": [
    "print(s.center(7))"
   ]
  },
  {
   "cell_type": "code",
   "execution_count": 39,
   "id": "bf714110-6591-4a2f-9401-5797d2b30b4c",
   "metadata": {},
   "outputs": [
    {
     "data": {
      "text/plain": [
       "'sdkbG'"
      ]
     },
     "execution_count": 39,
     "metadata": {},
     "output_type": "execute_result"
    }
   ],
   "source": [
    "s.replace('g','k')"
   ]
  },
  {
   "cell_type": "code",
   "execution_count": 44,
   "id": "e22cc368-4d14-4389-8b6b-8c02b0f50b84",
   "metadata": {},
   "outputs": [
    {
     "name": "stdout",
     "output_type": "stream",
     "text": [
      "dsfsdf\n"
     ]
    }
   ],
   "source": [
    "print('            dsfsdf       '.strip())"
   ]
  },
  {
   "cell_type": "markdown",
   "id": "68940eed-7a77-4877-bea6-d9913e77104e",
   "metadata": {},
   "source": [
    "# Containters"
   ]
  },
  {
   "cell_type": "markdown",
   "id": "6f2f4401-29b0-4d2f-906e-6d2f3003df4d",
   "metadata": {},
   "source": [
    "## List"
   ]
  },
  {
   "cell_type": "code",
   "execution_count": 61,
   "id": "19005570-8e9c-420c-aaf1-71699bf38384",
   "metadata": {},
   "outputs": [
    {
     "name": "stdout",
     "output_type": "stream",
     "text": [
      "<class 'list'>\n"
     ]
    }
   ],
   "source": [
    "x=[1,23,42,52,4]\n",
    "print(type(x))"
   ]
  },
  {
   "cell_type": "code",
   "execution_count": 62,
   "id": "a967db06-f03c-4106-8fbf-cfd207bef8ca",
   "metadata": {},
   "outputs": [
    {
     "name": "stdout",
     "output_type": "stream",
     "text": [
      "4\n"
     ]
    }
   ],
   "source": [
    "print(x[-1])"
   ]
  },
  {
   "cell_type": "code",
   "execution_count": 58,
   "id": "7731a86f-f3dd-443e-882f-80fe05a53691",
   "metadata": {},
   "outputs": [
    {
     "name": "stdout",
     "output_type": "stream",
     "text": [
      "23\n"
     ]
    }
   ],
   "source": [
    "print(x[-4])"
   ]
  },
  {
   "cell_type": "code",
   "execution_count": 63,
   "id": "71196668-e12b-4eea-ad65-2d73380d088c",
   "metadata": {},
   "outputs": [],
   "source": [
    "x.append(56)"
   ]
  },
  {
   "cell_type": "code",
   "execution_count": 64,
   "id": "136a2d9d-04c9-4a1e-9b70-4d429f4fe2f1",
   "metadata": {},
   "outputs": [
    {
     "data": {
      "text/plain": [
       "[1, 23, 42, 52, 4, 56]"
      ]
     },
     "execution_count": 64,
     "metadata": {},
     "output_type": "execute_result"
    }
   ],
   "source": [
    "x"
   ]
  },
  {
   "cell_type": "code",
   "execution_count": 65,
   "id": "65722105-322d-46ed-876f-0d6a7fa80417",
   "metadata": {},
   "outputs": [],
   "source": [
    "x.remove(4)"
   ]
  },
  {
   "cell_type": "code",
   "execution_count": 66,
   "id": "c04f2b23-b108-4a65-88bb-31c499ef226b",
   "metadata": {},
   "outputs": [
    {
     "data": {
      "text/plain": [
       "[1, 23, 42, 52, 56]"
      ]
     },
     "execution_count": 66,
     "metadata": {},
     "output_type": "execute_result"
    }
   ],
   "source": [
    "x"
   ]
  },
  {
   "cell_type": "code",
   "execution_count": 68,
   "id": "40d205a4-0d4b-436a-a8dc-c4c1c22a31e4",
   "metadata": {},
   "outputs": [
    {
     "data": {
      "text/plain": [
       "56"
      ]
     },
     "execution_count": 68,
     "metadata": {},
     "output_type": "execute_result"
    }
   ],
   "source": [
    "x.pop()"
   ]
  },
  {
   "cell_type": "code",
   "execution_count": 69,
   "id": "a39d0d6a-70bf-4d77-b5cc-3ff2c953cf3c",
   "metadata": {},
   "outputs": [
    {
     "data": {
      "text/plain": [
       "[1, 23, 42, 52]"
      ]
     },
     "execution_count": 69,
     "metadata": {},
     "output_type": "execute_result"
    }
   ],
   "source": [
    "x"
   ]
  },
  {
   "cell_type": "code",
   "execution_count": 71,
   "id": "4f9003ce-1785-44d9-ae42-41923d1cae1f",
   "metadata": {},
   "outputs": [
    {
     "data": {
      "text/plain": [
       "[42, 52]"
      ]
     },
     "execution_count": 71,
     "metadata": {},
     "output_type": "execute_result"
    }
   ],
   "source": [
    "x[2:5]"
   ]
  },
  {
   "cell_type": "code",
   "execution_count": 72,
   "id": "84cc9a17-132b-4b8c-9630-5a19befe74cc",
   "metadata": {},
   "outputs": [
    {
     "data": {
      "text/plain": [
       "42"
      ]
     },
     "execution_count": 72,
     "metadata": {},
     "output_type": "execute_result"
    }
   ],
   "source": [
    "x.pop(2)"
   ]
  },
  {
   "cell_type": "code",
   "execution_count": 80,
   "id": "d1055765-cab5-449a-be2f-44212462e986",
   "metadata": {},
   "outputs": [
    {
     "name": "stdout",
     "output_type": "stream",
     "text": [
      "0 : a\n",
      "1 : b\n",
      "2 : c\n"
     ]
    }
   ],
   "source": [
    "anim=['a','b','c']\n",
    "for idx,an in enumerate(anim):\n",
    "    print(\"{} : {}\".format(idx,an))"
   ]
  },
  {
   "cell_type": "markdown",
   "id": "9ec4eddf-80ae-4e76-bc92-f7b2de733cb5",
   "metadata": {},
   "source": [
    "#List compresion"
   ]
  },
  {
   "cell_type": "code",
   "execution_count": 82,
   "id": "7fc3e5b9-4338-4db9-9b7c-cd3ed21bc916",
   "metadata": {},
   "outputs": [],
   "source": [
    "nums=[1,2,3,4,5,6,7,8,9,10]"
   ]
  },
  {
   "cell_type": "code",
   "execution_count": 85,
   "id": "173fce93-4824-41f5-9774-24269466d5eb",
   "metadata": {},
   "outputs": [
    {
     "name": "stdout",
     "output_type": "stream",
     "text": [
      "2\n",
      "4\n",
      "6\n",
      "8\n",
      "10\n"
     ]
    }
   ],
   "source": [
    "for x in nums:\n",
    "    if (x**2)%2==0:\n",
    "        print(x)"
   ]
  },
  {
   "cell_type": "code",
   "execution_count": 87,
   "id": "8282f557-a8d7-4691-b398-ea3bf330a31a",
   "metadata": {},
   "outputs": [],
   "source": [
    "even= [x**2 for x in nums if x%2==0]"
   ]
  },
  {
   "cell_type": "code",
   "execution_count": 88,
   "id": "4a19fc12-e050-4e48-b961-58aa19556989",
   "metadata": {},
   "outputs": [
    {
     "data": {
      "text/plain": [
       "[4, 16, 36, 64, 100]"
      ]
     },
     "execution_count": 88,
     "metadata": {},
     "output_type": "execute_result"
    }
   ],
   "source": [
    "even"
   ]
  },
  {
   "cell_type": "markdown",
   "id": "09495f99-20a0-4457-891b-554b80e8758c",
   "metadata": {},
   "source": [
    "# Dictonary"
   ]
  },
  {
   "cell_type": "code",
   "execution_count": 90,
   "id": "451cf8a8-fb3a-4620-b362-525241c6eb34",
   "metadata": {},
   "outputs": [],
   "source": [
    "D={'A':'a','B':'b'}\n"
   ]
  },
  {
   "cell_type": "code",
   "execution_count": 93,
   "id": "65322f9c-a18c-4b77-84cc-41ed65486a62",
   "metadata": {},
   "outputs": [
    {
     "name": "stdout",
     "output_type": "stream",
     "text": [
      "False\n"
     ]
    }
   ],
   "source": [
    "print(\"a\" in D)"
   ]
  },
  {
   "cell_type": "code",
   "execution_count": 96,
   "id": "87dab456-729a-43e0-b040-6efc32932f53",
   "metadata": {},
   "outputs": [],
   "source": [
    "D['C']='c'"
   ]
  },
  {
   "cell_type": "code",
   "execution_count": 95,
   "id": "229f2677-2fe7-44fb-977a-e4fbd9285341",
   "metadata": {},
   "outputs": [
    {
     "data": {
      "text/plain": [
       "{'A': 'a', 'B': 'b', 'C': 'c'}"
      ]
     },
     "execution_count": 95,
     "metadata": {},
     "output_type": "execute_result"
    }
   ],
   "source": [
    "D"
   ]
  },
  {
   "cell_type": "code",
   "execution_count": 101,
   "id": "fbafaf42-f97b-42f8-a922-0262dad3d299",
   "metadata": {},
   "outputs": [
    {
     "name": "stdout",
     "output_type": "stream",
     "text": [
      "a\n",
      "NA\n"
     ]
    }
   ],
   "source": [
    "print(D.get('A','NA'))\n",
    "print(D.get('D','NA'))"
   ]
  },
  {
   "cell_type": "code",
   "execution_count": 104,
   "id": "a3be2ec4-fd09-4263-8422-b3f1d8f9fbbf",
   "metadata": {},
   "outputs": [
    {
     "name": "stdout",
     "output_type": "stream",
     "text": [
      "The person have A and a\n",
      "The person have B and b\n",
      "The person have C and c\n"
     ]
    }
   ],
   "source": [
    "for key,value in D.items():\n",
    "    print(\"The person have {} and {}\".format(key,value))"
   ]
  },
  {
   "cell_type": "code",
   "execution_count": 109,
   "id": "c11c918d-aa47-4615-9357-96253ffb2220",
   "metadata": {},
   "outputs": [
    {
     "name": "stdout",
     "output_type": "stream",
     "text": [
      "{2: 4, 4: 16}\n",
      "<class 'dict'>\n"
     ]
    }
   ],
   "source": [
    "num=[1,2,3,4,5]\n",
    "dic={}\n",
    "for i in num:\n",
    "    if (i%2==0):\n",
    "        dic[i]=i**2\n",
    "print(dic)\n",
    "print(type(dic))"
   ]
  },
  {
   "cell_type": "markdown",
   "id": "8e93305d-5c92-4985-b4dd-ae78f6b36e77",
   "metadata": {},
   "source": [
    "# sets"
   ]
  },
  {
   "cell_type": "code",
   "execution_count": 111,
   "id": "4914fd76-632b-4a75-8cfe-7b3694318d9b",
   "metadata": {},
   "outputs": [],
   "source": [
    "animals={'ab','cd'}\n"
   ]
  },
  {
   "cell_type": "code",
   "execution_count": 112,
   "id": "0997c20b-ab7f-4640-a6a8-aede258cca4e",
   "metadata": {},
   "outputs": [
    {
     "name": "stdout",
     "output_type": "stream",
     "text": [
      "{'cd', 'ab'}\n"
     ]
    }
   ],
   "source": [
    "print(animals)"
   ]
  },
  {
   "cell_type": "code",
   "execution_count": 113,
   "id": "f68cfcc6-bd13-4aab-8499-42c39c8d61e0",
   "metadata": {},
   "outputs": [],
   "source": [
    "animals.add('sdfs')"
   ]
  },
  {
   "cell_type": "code",
   "execution_count": 114,
   "id": "c268c6aa-149a-4309-a805-eb2103b1fe4e",
   "metadata": {},
   "outputs": [
    {
     "data": {
      "text/plain": [
       "{'ab', 'cd', 'sdfs'}"
      ]
     },
     "execution_count": 114,
     "metadata": {},
     "output_type": "execute_result"
    }
   ],
   "source": [
    "animals"
   ]
  },
  {
   "cell_type": "code",
   "execution_count": 115,
   "id": "fa4d04c7-cb3c-4a53-a546-d8c928c4179b",
   "metadata": {},
   "outputs": [
    {
     "name": "stdout",
     "output_type": "stream",
     "text": [
      "3\n"
     ]
    }
   ],
   "source": [
    "print(len(animals))"
   ]
  },
  {
   "cell_type": "code",
   "execution_count": 122,
   "id": "fa2e07b7-8585-4da7-a317-62067dbcb6ce",
   "metadata": {},
   "outputs": [
    {
     "name": "stdout",
     "output_type": "stream",
     "text": [
      "0 sdfs\n",
      "1 cd\n",
      "2 ab\n"
     ]
    }
   ],
   "source": [
    "for i , j in enumerate(animals):\n",
    "    print(i,j)"
   ]
  },
  {
   "cell_type": "code",
   "execution_count": 134,
   "id": "65cabd0e-512c-404a-b279-59f65c9f0449",
   "metadata": {},
   "outputs": [
    {
     "name": "stdout",
     "output_type": "stream",
     "text": [
      "{0, 1, 2, 3, 4, 5, 6, 7}\n"
     ]
    }
   ],
   "source": [
    "from math import sqrt\n",
    "print({int(sqrt(x)) for x in range(50)})\n"
   ]
  },
  {
   "cell_type": "markdown",
   "id": "c1399d7a-1703-46a4-862f-67a4d9e01095",
   "metadata": {},
   "source": [
    "Tuples"
   ]
  },
  {
   "cell_type": "code",
   "execution_count": 135,
   "id": "ada3cd9d-1596-4221-86c3-f554b644e75d",
   "metadata": {},
   "outputs": [
    {
     "data": {
      "text/plain": [
       "tuple"
      ]
     },
     "execution_count": 135,
     "metadata": {},
     "output_type": "execute_result"
    }
   ],
   "source": [
    "a=(1,3,48,32)\n",
    "type(a)"
   ]
  },
  {
   "cell_type": "code",
   "execution_count": 138,
   "id": "f229db4c-58c2-45ec-8b7b-1f5a9ce4de53",
   "metadata": {},
   "outputs": [],
   "source": [
    "b=(2,4,1,[3,2,4])\n",
    "b[3][0]=34"
   ]
  },
  {
   "cell_type": "code",
   "execution_count": 139,
   "id": "cc432456-f796-4f47-ab7f-fd18de8f4867",
   "metadata": {},
   "outputs": [
    {
     "data": {
      "text/plain": [
       "(2, 4, 1, [34, 2, 4])"
      ]
     },
     "execution_count": 139,
     "metadata": {},
     "output_type": "execute_result"
    }
   ],
   "source": [
    "b"
   ]
  },
  {
   "cell_type": "code",
   "execution_count": 151,
   "id": "08c63e97-01fc-4f81-8227-384b565b6c22",
   "metadata": {},
   "outputs": [
    {
     "name": "stdout",
     "output_type": "stream",
     "text": [
      "{frozenset({3, 4}), frozenset({2, 3}), frozenset({1, 2}), frozenset({4, 5}), frozenset({0, 1})}\n"
     ]
    }
   ],
   "source": [
    "s = set()\n",
    "for t in range(5):\n",
    "    s.add(frozenset({t, t + 1}))\n",
    "\n",
    "print(s)"
   ]
  },
  {
   "cell_type": "code",
   "execution_count": 153,
   "id": "3960adf3-d503-4000-ad46-9d7077b05d19",
   "metadata": {},
   "outputs": [],
   "source": [
    "def sign(num):\n",
    "    if num > 0:\n",
    "        return \"+ve\"\n",
    "    elif num < 0:\n",
    "        return \"-ve\"\n",
    "    else:\n",
    "        return \"zero\""
   ]
  },
  {
   "cell_type": "code",
   "execution_count": 154,
   "id": "98c0778f-1dde-494c-ad25-d5ddb2e3d6e1",
   "metadata": {},
   "outputs": [
    {
     "name": "stdout",
     "output_type": "stream",
     "text": [
      "+ve\n",
      "-ve\n",
      "zero\n"
     ]
    }
   ],
   "source": [
    "print(sign(10))   # +ve\n",
    "print(sign(-5))   # -ve\n",
    "print(sign(0))    # zero\n"
   ]
  },
  {
   "cell_type": "code",
   "execution_count": 161,
   "id": "7c061dcb-7482-4826-9df2-6530c982a26f",
   "metadata": {},
   "outputs": [
    {
     "name": "stdout",
     "output_type": "stream",
     "text": [
      "shubham\n",
      "SHUBHAM\n"
     ]
    }
   ],
   "source": [
    "def hello(name, loud=False):\n",
    "    if loud:\n",
    "        return name.upper()\n",
    "    else:\n",
    "        return name.lower()\n",
    "print(hello('Shubham',0))\n",
    "print(hello('Shubham',1))"
   ]
  },
  {
   "cell_type": "code",
   "execution_count": 168,
   "id": "3db0a58c-091f-4378-986c-547af790eb1e",
   "metadata": {},
   "outputs": [
    {
     "name": "stdout",
     "output_type": "stream",
     "text": [
      "Camel\n",
      "UPPER\n",
      "lower\n",
      "Other\n"
     ]
    }
   ],
   "source": [
    "def check(name):\n",
    "    if name.isupper():\n",
    "        print(\"UPPER\")\n",
    "    elif name.islower():\n",
    "        print(\"lower\")\n",
    "    elif name[0].isupper() and name[1:].islower():\n",
    "        print('Camel')\n",
    "    else:\n",
    "        print(\"Other\")\n",
    "\n",
    "check('Shubham')\n",
    "check(\"SHUBHAM\")\n",
    "check(\"shubham\")\n",
    "check(\"sHubham\")\n"
   ]
  },
  {
   "cell_type": "code",
   "execution_count": 169,
   "id": "7ff07f97-2632-47df-a81a-7507e0579313",
   "metadata": {},
   "outputs": [
    {
     "name": "stdout",
     "output_type": "stream",
     "text": [
      "After local assignment: test spam\n",
      "After nonlocal assignment: nonlocal spam\n",
      "After global assignment: nonlocal spam\n",
      "In global scope: global spam\n"
     ]
    }
   ],
   "source": [
    "def scope_test():\n",
    "    def do_local():\n",
    "        spam = \"local spam\"\n",
    "\n",
    "    def do_nonlocal():\n",
    "        nonlocal spam\n",
    "        spam = \"nonlocal spam\"\n",
    "\n",
    "    def do_global():\n",
    "        global spam\n",
    "        spam = \"global spam\"\n",
    "\n",
    "    spam = \"test spam\"\n",
    "    do_local()\n",
    "    print(\"After local assignment:\", spam)\n",
    "    do_nonlocal()\n",
    "    print(\"After nonlocal assignment:\", spam)\n",
    "    do_global()\n",
    "    print(\"After global assignment:\", spam)\n",
    "\n",
    "scope_test()\n",
    "print(\"In global scope:\", spam)\n"
   ]
  },
  {
   "cell_type": "markdown",
   "id": "2445499e-2bf7-46ff-af89-483b4a4aa9ca",
   "metadata": {},
   "source": [
    "# Class"
   ]
  },
  {
   "cell_type": "code",
   "execution_count": 183,
   "id": "a344999f-0ca2-4b46-91c9-a78db8129b6e",
   "metadata": {},
   "outputs": [],
   "source": [
    "class greeter:\n",
    "    def __init__(self,name):\n",
    "        self.name=name\n",
    "    def greet(self, loud=False):\n",
    "        if loud:\n",
    "            print(self.name.upper())\n",
    "        else:\n",
    "            print(self.name.lower())"
   ]
  },
  {
   "cell_type": "code",
   "execution_count": 185,
   "id": "101e4a04-a48e-4d92-b548-399d09f4eb49",
   "metadata": {},
   "outputs": [
    {
     "name": "stdout",
     "output_type": "stream",
     "text": [
      "shubham\n"
     ]
    }
   ],
   "source": [
    "G=greeter('Shubham')\n",
    "G.greet()"
   ]
  },
  {
   "cell_type": "code",
   "execution_count": 201,
   "id": "c9c44e47-90c9-4132-a540-4722ab1cbbcb",
   "metadata": {},
   "outputs": [],
   "source": [
    "class Info:\n",
    "    def __init__(self, name, age):\n",
    "        self.name = name\n",
    "        self.age = age\n",
    "\n",
    "    def greet(self, loud=False):\n",
    "        if loud:\n",
    "            print(\"Hello {}, your age is {}\".format(self.name.upper(), self.age))\n",
    "        else:\n",
    "            print(self.name.lower())\n"
   ]
  },
  {
   "cell_type": "code",
   "execution_count": 203,
   "id": "a83ce748-a600-462e-a9a6-6897cfc0176e",
   "metadata": {},
   "outputs": [
    {
     "name": "stdout",
     "output_type": "stream",
     "text": [
      "Hello SHUBHAM, your age is 15\n"
     ]
    }
   ],
   "source": [
    "G=Info('Shubham',15)\n",
    "G.greet(True)"
   ]
  },
  {
   "cell_type": "raw",
   "id": "045cdbc7-9b2b-4b14-a6fb-b9e23a4e1394",
   "metadata": {},
   "source": []
  }
 ],
 "metadata": {
  "kernelspec": {
   "display_name": "Python 3 (ipykernel)",
   "language": "python",
   "name": "python3"
  },
  "language_info": {
   "codemirror_mode": {
    "name": "ipython",
    "version": 3
   },
   "file_extension": ".py",
   "mimetype": "text/x-python",
   "name": "python",
   "nbconvert_exporter": "python",
   "pygments_lexer": "ipython3",
   "version": "3.13.5"
  }
 },
 "nbformat": 4,
 "nbformat_minor": 5
}
