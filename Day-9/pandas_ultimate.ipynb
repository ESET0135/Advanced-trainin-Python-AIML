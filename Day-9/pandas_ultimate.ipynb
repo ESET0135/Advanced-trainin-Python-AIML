{
 "cells": [
  {
   "cell_type": "markdown",
   "metadata": {
    "id": "mfIMtw6BaiO1"
   },
   "source": [
    "## Pandas DataFrame: Create from lists of values"
   ]
  },
  {
   "cell_type": "code",
   "execution_count": 1,
   "metadata": {
    "id": "qQ5S72eoaiuA"
   },
   "outputs": [
    {
     "data": {
      "text/html": [
       "<div>\n",
       "<style scoped>\n",
       "    .dataframe tbody tr th:only-of-type {\n",
       "        vertical-align: middle;\n",
       "    }\n",
       "\n",
       "    .dataframe tbody tr th {\n",
       "        vertical-align: top;\n",
       "    }\n",
       "\n",
       "    .dataframe thead th {\n",
       "        text-align: right;\n",
       "    }\n",
       "</style>\n",
       "<table border=\"1\" class=\"dataframe\">\n",
       "  <thead>\n",
       "    <tr style=\"text-align: right;\">\n",
       "      <th></th>\n",
       "      <th>first_name</th>\n",
       "      <th>last_name</th>\n",
       "    </tr>\n",
       "  </thead>\n",
       "  <tbody>\n",
       "    <tr>\n",
       "      <th>0</th>\n",
       "      <td>Sarah</td>\n",
       "      <td>Connor</td>\n",
       "    </tr>\n",
       "    <tr>\n",
       "      <th>1</th>\n",
       "      <td>John</td>\n",
       "      <td>Connor</td>\n",
       "    </tr>\n",
       "    <tr>\n",
       "      <th>2</th>\n",
       "      <td>Kyle</td>\n",
       "      <td>Reese</td>\n",
       "    </tr>\n",
       "  </tbody>\n",
       "</table>\n",
       "</div>"
      ],
      "text/plain": [
       "  first_name last_name\n",
       "0      Sarah    Connor\n",
       "1       John    Connor\n",
       "2       Kyle     Reese"
      ]
     },
     "execution_count": 1,
     "metadata": {},
     "output_type": "execute_result"
    }
   ],
   "source": [
    "import pandas as pd\n",
    "\n",
    "last_names = ['Connor', 'Connor', 'Reese']\n",
    "first_names = ['Sarah', 'John', 'Kyle']\n",
    "df = pd.DataFrame({\n",
    "  'first_name': first_names,\n",
    "  'last_name': last_names,\n",
    "})\n",
    "df"
   ]
  },
  {
   "cell_type": "markdown",
   "metadata": {
    "id": "da6CMhXZas7m"
   },
   "source": [
    "## Pandas DataFrame: Rename multiple Columns"
   ]
  },
  {
   "cell_type": "code",
   "execution_count": 2,
   "metadata": {
    "id": "PidN8TlvatXt"
   },
   "outputs": [
    {
     "data": {
      "text/html": [
       "<div>\n",
       "<style scoped>\n",
       "    .dataframe tbody tr th:only-of-type {\n",
       "        vertical-align: middle;\n",
       "    }\n",
       "\n",
       "    .dataframe tbody tr th {\n",
       "        vertical-align: top;\n",
       "    }\n",
       "\n",
       "    .dataframe thead th {\n",
       "        text-align: right;\n",
       "    }\n",
       "</style>\n",
       "<table border=\"1\" class=\"dataframe\">\n",
       "  <thead>\n",
       "    <tr style=\"text-align: right;\">\n",
       "      <th></th>\n",
       "      <th>Calendar Year</th>\n",
       "      <th>Favorite Animal</th>\n",
       "    </tr>\n",
       "  </thead>\n",
       "  <tbody>\n",
       "    <tr>\n",
       "      <th>0</th>\n",
       "      <td>2016</td>\n",
       "      <td>Giant panda</td>\n",
       "    </tr>\n",
       "    <tr>\n",
       "      <th>1</th>\n",
       "      <td>2015</td>\n",
       "      <td>Chicken</td>\n",
       "    </tr>\n",
       "    <tr>\n",
       "      <th>2</th>\n",
       "      <td>2014</td>\n",
       "      <td>Pig</td>\n",
       "    </tr>\n",
       "    <tr>\n",
       "      <th>3</th>\n",
       "      <td>2013</td>\n",
       "      <td>Turkey</td>\n",
       "    </tr>\n",
       "    <tr>\n",
       "      <th>4</th>\n",
       "      <td>2012</td>\n",
       "      <td>Dog</td>\n",
       "    </tr>\n",
       "  </tbody>\n",
       "</table>\n",
       "</div>"
      ],
      "text/plain": [
       "   Calendar Year Favorite Animal\n",
       "0           2016     Giant panda\n",
       "1           2015         Chicken\n",
       "2           2014             Pig\n",
       "3           2013          Turkey\n",
       "4           2012             Dog"
      ]
     },
     "execution_count": 2,
     "metadata": {},
     "output_type": "execute_result"
    }
   ],
   "source": [
    "import pandas as pd\n",
    "df = pd.DataFrame({\n",
    "    'Year': [2016, 2015, 2014, 2013, 2012],\n",
    "    'Top Animal': ['Giant panda', 'Chicken', 'Pig', 'Turkey', 'Dog']\n",
    "})\n",
    "\n",
    "df.rename(columns={\n",
    "    'Year': 'Calendar Year',\n",
    "    'Top Animal': 'Favorite Animal',\n",
    "}, inplace=True)\n",
    "df"
   ]
  },
  {
   "cell_type": "markdown",
   "metadata": {
    "id": "-3GmnRDV--F_"
   },
   "source": [
    "## Pandas DataFrame: Query by regexp (regular expression)"
   ]
  },
  {
   "cell_type": "code",
   "execution_count": 3,
   "metadata": {
    "id": "y2_DTKp-9v2A"
   },
   "outputs": [
    {
     "data": {
      "text/html": [
       "<div>\n",
       "<style scoped>\n",
       "    .dataframe tbody tr th:only-of-type {\n",
       "        vertical-align: middle;\n",
       "    }\n",
       "\n",
       "    .dataframe tbody tr th {\n",
       "        vertical-align: top;\n",
       "    }\n",
       "\n",
       "    .dataframe thead th {\n",
       "        text-align: right;\n",
       "    }\n",
       "</style>\n",
       "<table border=\"1\" class=\"dataframe\">\n",
       "  <thead>\n",
       "    <tr style=\"text-align: right;\">\n",
       "      <th></th>\n",
       "      <th>first_name</th>\n",
       "      <th>last_name</th>\n",
       "    </tr>\n",
       "  </thead>\n",
       "  <tbody>\n",
       "    <tr>\n",
       "      <th>0</th>\n",
       "      <td>Sarah</td>\n",
       "      <td>Connor</td>\n",
       "    </tr>\n",
       "    <tr>\n",
       "      <th>1</th>\n",
       "      <td>John</td>\n",
       "      <td>Connor</td>\n",
       "    </tr>\n",
       "    <tr>\n",
       "      <th>3</th>\n",
       "      <td>Joe</td>\n",
       "      <td>Bonnot</td>\n",
       "    </tr>\n",
       "  </tbody>\n",
       "</table>\n",
       "</div>"
      ],
      "text/plain": [
       "  first_name last_name\n",
       "0      Sarah    Connor\n",
       "1       John    Connor\n",
       "3        Joe    Bonnot"
      ]
     },
     "execution_count": 3,
     "metadata": {},
     "output_type": "execute_result"
    }
   ],
   "source": [
    "import pandas as pd\n",
    "df = pd.DataFrame({\n",
    "  'first_name': ['Sarah', 'John', 'Kyle', 'Joe'],\n",
    "  'last_name': ['Connor', 'Connor', 'Reese', 'Bonnot'],\n",
    "})\n",
    "\n",
    "df[df.last_name.str.match('.*onno.*')]"
   ]
  },
  {
   "cell_type": "markdown",
   "metadata": {
    "id": "VR_tSBKZPCHe"
   },
   "source": [
    "## Pandas DataFrame: Query by variable value"
   ]
  },
  {
   "cell_type": "markdown",
   "metadata": {
    "id": "emvt3RwC4U2L"
   },
   "source": [
    "Evaluate a variable as the value to find."
   ]
  },
  {
   "cell_type": "code",
   "execution_count": 4,
   "metadata": {
    "id": "5chfuU3RPItU"
   },
   "outputs": [
    {
     "data": {
      "text/html": [
       "<div>\n",
       "<style scoped>\n",
       "    .dataframe tbody tr th:only-of-type {\n",
       "        vertical-align: middle;\n",
       "    }\n",
       "\n",
       "    .dataframe tbody tr th {\n",
       "        vertical-align: top;\n",
       "    }\n",
       "\n",
       "    .dataframe thead th {\n",
       "        text-align: right;\n",
       "    }\n",
       "</style>\n",
       "<table border=\"1\" class=\"dataframe\">\n",
       "  <thead>\n",
       "    <tr style=\"text-align: right;\">\n",
       "      <th></th>\n",
       "      <th>first_name</th>\n",
       "      <th>last_name</th>\n",
       "    </tr>\n",
       "  </thead>\n",
       "  <tbody>\n",
       "    <tr>\n",
       "      <th>0</th>\n",
       "      <td>Sarah</td>\n",
       "      <td>Connor</td>\n",
       "    </tr>\n",
       "    <tr>\n",
       "      <th>1</th>\n",
       "      <td>John</td>\n",
       "      <td>Connor</td>\n",
       "    </tr>\n",
       "  </tbody>\n",
       "</table>\n",
       "</div>"
      ],
      "text/plain": [
       "  first_name last_name\n",
       "0      Sarah    Connor\n",
       "1       John    Connor"
      ]
     },
     "execution_count": 4,
     "metadata": {},
     "output_type": "execute_result"
    }
   ],
   "source": [
    "import pandas as pd\n",
    "df = pd.DataFrame({\n",
    "  'first_name': ['Sarah', 'John', 'Kyle'],\n",
    "  'last_name': ['Connor', 'Connor', 'Reese'],\n",
    "})\n",
    "\n",
    "foo = 'Connor'\n",
    "df.query('last_name == @foo')"
   ]
  },
  {
   "cell_type": "markdown",
   "metadata": {
    "id": "bHFe_2xK3WI7"
   },
   "source": [
    "## Pandas DataFrame: Query using variable value as a column name"
   ]
  },
  {
   "cell_type": "markdown",
   "metadata": {
    "id": "q8PqFCcW4y6z"
   },
   "source": [
    "Evaluate a variable, to use its value as the name of a column in a query.\n",
    "\n",
    "E.g. Query for rows where `John` is the value in the column named `first_name`."
   ]
  },
  {
   "cell_type": "code",
   "execution_count": 5,
   "metadata": {
    "id": "PbXpFR93PRtc"
   },
   "outputs": [
    {
     "data": {
      "text/html": [
       "<div>\n",
       "<style scoped>\n",
       "    .dataframe tbody tr th:only-of-type {\n",
       "        vertical-align: middle;\n",
       "    }\n",
       "\n",
       "    .dataframe tbody tr th {\n",
       "        vertical-align: top;\n",
       "    }\n",
       "\n",
       "    .dataframe thead th {\n",
       "        text-align: right;\n",
       "    }\n",
       "</style>\n",
       "<table border=\"1\" class=\"dataframe\">\n",
       "  <thead>\n",
       "    <tr style=\"text-align: right;\">\n",
       "      <th></th>\n",
       "      <th>first_name</th>\n",
       "      <th>last_name</th>\n",
       "    </tr>\n",
       "  </thead>\n",
       "  <tbody>\n",
       "    <tr>\n",
       "      <th>1</th>\n",
       "      <td>John</td>\n",
       "      <td>Connor</td>\n",
       "    </tr>\n",
       "  </tbody>\n",
       "</table>\n",
       "</div>"
      ],
      "text/plain": [
       "  first_name last_name\n",
       "1       John    Connor"
      ]
     },
     "execution_count": 5,
     "metadata": {},
     "output_type": "execute_result"
    }
   ],
   "source": [
    "import pandas as pd\n",
    "df = pd.DataFrame(data={\n",
    "  'first_name': ['Sarah', 'John', 'Kyle'],\n",
    "  'last_name': ['Connor', 'Connor', 'Reese'],\n",
    "})\n",
    "\n",
    "column_name = 'first_name'\n",
    "df.query(f\"`{column_name}` == 'John'\")"
   ]
  },
  {
   "cell_type": "markdown",
   "metadata": {
    "id": "BIgQb_ICbNu9"
   },
   "source": [
    "## Pandas DataFrame: Query by Timestamp above a value"
   ]
  },
  {
   "cell_type": "code",
   "execution_count": 6,
   "metadata": {
    "id": "0PAn5prJbOXk"
   },
   "outputs": [
    {
     "data": {
      "text/html": [
       "<div>\n",
       "<style scoped>\n",
       "    .dataframe tbody tr th:only-of-type {\n",
       "        vertical-align: middle;\n",
       "    }\n",
       "\n",
       "    .dataframe tbody tr th {\n",
       "        vertical-align: top;\n",
       "    }\n",
       "\n",
       "    .dataframe thead th {\n",
       "        text-align: right;\n",
       "    }\n",
       "</style>\n",
       "<table border=\"1\" class=\"dataframe\">\n",
       "  <thead>\n",
       "    <tr style=\"text-align: right;\">\n",
       "      <th></th>\n",
       "      <th>time</th>\n",
       "      <th>letter</th>\n",
       "    </tr>\n",
       "  </thead>\n",
       "  <tbody>\n",
       "    <tr>\n",
       "      <th>1</th>\n",
       "      <td>2022-09-14 00:52:30-07:00</td>\n",
       "      <td>B</td>\n",
       "    </tr>\n",
       "    <tr>\n",
       "      <th>2</th>\n",
       "      <td>2022-09-14 01:52:30-07:00</td>\n",
       "      <td>C</td>\n",
       "    </tr>\n",
       "  </tbody>\n",
       "</table>\n",
       "</div>"
      ],
      "text/plain": [
       "                       time letter\n",
       "1 2022-09-14 00:52:30-07:00      B\n",
       "2 2022-09-14 01:52:30-07:00      C"
      ]
     },
     "execution_count": 6,
     "metadata": {},
     "output_type": "execute_result"
    }
   ],
   "source": [
    "import pandas as pd\n",
    "df = pd.DataFrame({\n",
    "  'time': ['2022-09-14 00:52:00-07:00', '2022-09-14 00:52:30-07:00',\n",
    "           '2022-09-14 01:52:30-07:00'],\n",
    "  'letter': ['A', 'B', 'C'],\n",
    "})\n",
    "df['time'] = pd.to_datetime(df.time)\n",
    "\n",
    "df.query('time >= \"2022-09-14 00:52:30-07:00\"')"
   ]
  },
  {
   "cell_type": "markdown",
   "metadata": {
    "id": "MEFOgYwT0jiY"
   },
   "source": [
    "## Pandas DataFrame: Query for Timestamp between two values"
   ]
  },
  {
   "cell_type": "code",
   "execution_count": 7,
   "metadata": {
    "id": "gznADrAnbXGY"
   },
   "outputs": [
    {
     "data": {
      "text/html": [
       "<div>\n",
       "<style scoped>\n",
       "    .dataframe tbody tr th:only-of-type {\n",
       "        vertical-align: middle;\n",
       "    }\n",
       "\n",
       "    .dataframe tbody tr th {\n",
       "        vertical-align: top;\n",
       "    }\n",
       "\n",
       "    .dataframe thead th {\n",
       "        text-align: right;\n",
       "    }\n",
       "</style>\n",
       "<table border=\"1\" class=\"dataframe\">\n",
       "  <thead>\n",
       "    <tr style=\"text-align: right;\">\n",
       "      <th></th>\n",
       "      <th>time</th>\n",
       "      <th>letter</th>\n",
       "    </tr>\n",
       "  </thead>\n",
       "  <tbody>\n",
       "    <tr>\n",
       "      <th>0</th>\n",
       "      <td>2022-09-14 00:52:00-07:00</td>\n",
       "      <td>A</td>\n",
       "    </tr>\n",
       "    <tr>\n",
       "      <th>1</th>\n",
       "      <td>2022-09-14 00:52:30-07:00</td>\n",
       "      <td>B</td>\n",
       "    </tr>\n",
       "  </tbody>\n",
       "</table>\n",
       "</div>"
      ],
      "text/plain": [
       "                       time letter\n",
       "0 2022-09-14 00:52:00-07:00      A\n",
       "1 2022-09-14 00:52:30-07:00      B"
      ]
     },
     "execution_count": 7,
     "metadata": {},
     "output_type": "execute_result"
    }
   ],
   "source": [
    "import pandas as pd\n",
    "df = pd.DataFrame({\n",
    "  'time': ['2022-09-14 00:52:00-07:00', '2022-09-14 00:52:30-07:00',\n",
    "           '2022-09-14 01:52:30-07:00'],\n",
    "  'letter': ['A', 'B', 'C'],\n",
    "})\n",
    "df['time'] = pd.to_datetime(df.time)\n",
    "\n",
    "begin_ts = '2022-09-14 00:52:00-07:00'\n",
    "end_ts = '2022-09-14 00:54:00-07:00'\n",
    "\n",
    "df.query('@begin_ts <= time < @end_ts')\n",
    "# df.query(f\"'2022-09-14 00:52:00-07:00' <= time < '2022-09-14 00:54:00-07:00'\")"
   ]
  },
  {
   "cell_type": "markdown",
   "metadata": {
    "id": "4zoeyh7ndKKN"
   },
   "source": [
    "## Pandas DataFrame: Filter by Timestamp in DatetimeIndex using `.loc[]`"
   ]
  },
  {
   "cell_type": "code",
   "execution_count": 8,
   "metadata": {
    "id": "1B_YCZUrbaFG"
   },
   "outputs": [
    {
     "data": {
      "text/html": [
       "<div>\n",
       "<style scoped>\n",
       "    .dataframe tbody tr th:only-of-type {\n",
       "        vertical-align: middle;\n",
       "    }\n",
       "\n",
       "    .dataframe tbody tr th {\n",
       "        vertical-align: top;\n",
       "    }\n",
       "\n",
       "    .dataframe thead th {\n",
       "        text-align: right;\n",
       "    }\n",
       "</style>\n",
       "<table border=\"1\" class=\"dataframe\">\n",
       "  <thead>\n",
       "    <tr style=\"text-align: right;\">\n",
       "      <th></th>\n",
       "      <th>letter</th>\n",
       "    </tr>\n",
       "    <tr>\n",
       "      <th>time</th>\n",
       "      <th></th>\n",
       "    </tr>\n",
       "  </thead>\n",
       "  <tbody>\n",
       "    <tr>\n",
       "      <th>2022-09-14 00:52:00-07:00</th>\n",
       "      <td>A</td>\n",
       "    </tr>\n",
       "    <tr>\n",
       "      <th>2022-09-14 00:52:30-07:00</th>\n",
       "      <td>B</td>\n",
       "    </tr>\n",
       "  </tbody>\n",
       "</table>\n",
       "</div>"
      ],
      "text/plain": [
       "                          letter\n",
       "time                            \n",
       "2022-09-14 00:52:00-07:00      A\n",
       "2022-09-14 00:52:30-07:00      B"
      ]
     },
     "execution_count": 8,
     "metadata": {},
     "output_type": "execute_result"
    }
   ],
   "source": [
    "import pandas as pd\n",
    "df = pd.DataFrame({\n",
    "  'time': ['2022-09-14 00:52:00-07:00', '2022-09-14 00:52:30-07:00',\n",
    "           '2022-09-14 01:52:30-07:00'],\n",
    "  'letter': ['A', 'B', 'C'],\n",
    "})\n",
    "df['time'] = pd.to_datetime(df.time)\n",
    "df.set_index('time', inplace=True)\n",
    "\n",
    "df.loc['2022-09-14':'2022-09-14 00:53']"
   ]
  },
  {
   "cell_type": "markdown",
   "metadata": {
    "id": "fDscd8p3hOqz"
   },
   "source": [
    "## Pandas DataFrame: Filter by Timestamp using TimeDelta string"
   ]
  },
  {
   "cell_type": "code",
   "execution_count": 9,
   "metadata": {
    "id": "YoRYanJrVV5g"
   },
   "outputs": [
    {
     "data": {
      "text/html": [
       "<div>\n",
       "<style scoped>\n",
       "    .dataframe tbody tr th:only-of-type {\n",
       "        vertical-align: middle;\n",
       "    }\n",
       "\n",
       "    .dataframe tbody tr th {\n",
       "        vertical-align: top;\n",
       "    }\n",
       "\n",
       "    .dataframe thead th {\n",
       "        text-align: right;\n",
       "    }\n",
       "</style>\n",
       "<table border=\"1\" class=\"dataframe\">\n",
       "  <thead>\n",
       "    <tr style=\"text-align: right;\">\n",
       "      <th></th>\n",
       "      <th>time</th>\n",
       "      <th>letter</th>\n",
       "    </tr>\n",
       "  </thead>\n",
       "  <tbody>\n",
       "    <tr>\n",
       "      <th>0</th>\n",
       "      <td>2022-09-14 00:52:00-07:00</td>\n",
       "      <td>A</td>\n",
       "    </tr>\n",
       "    <tr>\n",
       "      <th>1</th>\n",
       "      <td>2022-09-14 00:52:30-07:00</td>\n",
       "      <td>B</td>\n",
       "    </tr>\n",
       "  </tbody>\n",
       "</table>\n",
       "</div>"
      ],
      "text/plain": [
       "                       time letter\n",
       "0 2022-09-14 00:52:00-07:00      A\n",
       "1 2022-09-14 00:52:30-07:00      B"
      ]
     },
     "execution_count": 9,
     "metadata": {},
     "output_type": "execute_result"
    }
   ],
   "source": [
    "import pandas as pd\n",
    "df = pd.DataFrame({\n",
    "  'time': ['2022-09-14 00:52:00-07:00', '2022-09-14 00:52:30-07:00',\n",
    "           '2022-09-14 01:52:30-07:00'],\n",
    "  'letter': ['A', 'B', 'C'],\n",
    "})\n",
    "df['time'] = pd.to_datetime(df.time)\n",
    "\n",
    "def rows_in_time_range(df, time_column, start_ts_str, timedelta_str):\n",
    "  # Return rows from df, where start_ts < time_column <= start_ts + delta.\n",
    "  # start_ts_str can be a date '2022-09-01' or a time '2022-09-14 00:52:00-07:00'\n",
    "  # timedelta_str examples: '2 minutes'  '2 days 2 hours 15 minutes 30 seconds'\n",
    "  start_ts = pd.Timestamp(start_ts_str).tz_localize('US/Pacific')\n",
    "  end_ts = start_ts + pd.to_timedelta(timedelta_str)\n",
    "  return df.query(\"@start_ts <= {0} < @end_ts\".format(time_column))\n",
    "\n",
    "rows_in_time_range(df, 'time', '2022-09-14 00:00', '52 minutes 31 seconds')"
   ]
  },
  {
   "cell_type": "markdown",
   "metadata": {
    "id": "DyrfPExcbjFY"
   },
   "source": [
    "## Pandas: Describe Timestamp values in a column"
   ]
  },
  {
   "cell_type": "code",
   "execution_count": 10,
   "metadata": {
    "id": "T1-ozcpHbitV"
   },
   "outputs": [],
   "source": [
    "import pandas as pd\n",
    "df = pd.DataFrame({\n",
    "  'time': ['2022-09-14 00:52:00-07:00', '2022-09-14 00:52:30-07:00',\n",
    "           '2022-09-14 01:52:30-07:00'],\n",
    "  'letter': ['A', 'B', 'C'],\n",
    "})\n",
    "df['time'] = pd.to_datetime(df.time)\n",
    "\n",
    "# df['time'].describe(datetime_is_numeric=True)"
   ]
  },
  {
   "cell_type": "markdown",
   "metadata": {
    "id": "mrWXmdmOcA6F"
   },
   "source": [
    "## Pandas DataFrame: Explode a column containing dictionary values into multiple columns"
   ]
  },
  {
   "cell_type": "markdown",
   "metadata": {
    "id": "fcbWC_o5Bq6J"
   },
   "source": [
    "This code transforms or splits the dictionary column into many columns.\n",
    "\n",
    "E.g. The output DataFrame of this cell will have columns named [`date, letter, fruit, weather`]."
   ]
  },
  {
   "cell_type": "code",
   "execution_count": 11,
   "metadata": {
    "id": "2225FVJacBYs"
   },
   "outputs": [
    {
     "data": {
      "text/html": [
       "<div>\n",
       "<style scoped>\n",
       "    .dataframe tbody tr th:only-of-type {\n",
       "        vertical-align: middle;\n",
       "    }\n",
       "\n",
       "    .dataframe tbody tr th {\n",
       "        vertical-align: top;\n",
       "    }\n",
       "\n",
       "    .dataframe thead th {\n",
       "        text-align: right;\n",
       "    }\n",
       "</style>\n",
       "<table border=\"1\" class=\"dataframe\">\n",
       "  <thead>\n",
       "    <tr style=\"text-align: right;\">\n",
       "      <th></th>\n",
       "      <th>date</th>\n",
       "      <th>letter</th>\n",
       "      <th>fruit</th>\n",
       "      <th>weather</th>\n",
       "    </tr>\n",
       "  </thead>\n",
       "  <tbody>\n",
       "    <tr>\n",
       "      <th>0</th>\n",
       "      <td>2022-09-14</td>\n",
       "      <td>A</td>\n",
       "      <td>apple</td>\n",
       "      <td>aces</td>\n",
       "    </tr>\n",
       "    <tr>\n",
       "      <th>1</th>\n",
       "      <td>2022-09-15</td>\n",
       "      <td>B</td>\n",
       "      <td>banana</td>\n",
       "      <td>bad</td>\n",
       "    </tr>\n",
       "    <tr>\n",
       "      <th>2</th>\n",
       "      <td>2022-09-16</td>\n",
       "      <td>C</td>\n",
       "      <td>cantaloupe</td>\n",
       "      <td>cloudy</td>\n",
       "    </tr>\n",
       "  </tbody>\n",
       "</table>\n",
       "</div>"
      ],
      "text/plain": [
       "         date letter       fruit weather\n",
       "0  2022-09-14      A       apple    aces\n",
       "1  2022-09-15      B      banana     bad\n",
       "2  2022-09-16      C  cantaloupe  cloudy"
      ]
     },
     "execution_count": 11,
     "metadata": {},
     "output_type": "execute_result"
    }
   ],
   "source": [
    "import pandas as pd\n",
    "df = pd.DataFrame({\n",
    "  'date': ['2022-09-14', '2022-09-15', '2022-09-16'],\n",
    "  'letter': ['A', 'B', 'C'],\n",
    "  'dict' : [{ 'fruit': 'apple', 'weather': 'aces'},\n",
    "            { 'fruit': 'banana', 'weather': 'bad'},\n",
    "            { 'fruit': 'cantaloupe', 'weather': 'cloudy'}],\n",
    "})\n",
    "\n",
    "pd.concat([df.drop(['dict'], axis=1), df['dict'].apply(pd.Series)], axis=1)"
   ]
  },
  {
   "cell_type": "markdown",
   "metadata": {
    "id": "SIjbg2DUki9C"
   },
   "source": [
    "## Pandas DataFrame: Extract values using regexp (regular expression)"
   ]
  },
  {
   "cell_type": "code",
   "execution_count": 12,
   "metadata": {
    "id": "Y7v3bFUmkidS"
   },
   "outputs": [
    {
     "data": {
      "text/html": [
       "<div>\n",
       "<style scoped>\n",
       "    .dataframe tbody tr th:only-of-type {\n",
       "        vertical-align: middle;\n",
       "    }\n",
       "\n",
       "    .dataframe tbody tr th {\n",
       "        vertical-align: top;\n",
       "    }\n",
       "\n",
       "    .dataframe thead th {\n",
       "        text-align: right;\n",
       "    }\n",
       "</style>\n",
       "<table border=\"1\" class=\"dataframe\">\n",
       "  <thead>\n",
       "    <tr style=\"text-align: right;\">\n",
       "      <th></th>\n",
       "      <th>0</th>\n",
       "    </tr>\n",
       "  </thead>\n",
       "  <tbody>\n",
       "    <tr>\n",
       "      <th>0</th>\n",
       "      <td>index.html</td>\n",
       "    </tr>\n",
       "    <tr>\n",
       "      <th>1</th>\n",
       "      <td>foo.html</td>\n",
       "    </tr>\n",
       "  </tbody>\n",
       "</table>\n",
       "</div>"
      ],
      "text/plain": [
       "            0\n",
       "0  index.html\n",
       "1    foo.html"
      ]
     },
     "execution_count": 12,
     "metadata": {},
     "output_type": "execute_result"
    }
   ],
   "source": [
    "import pandas as pd\n",
    "df = pd.DataFrame({\n",
    "  'request': ['GET /index.html?baz=3', 'GET /foo.html?bar=1'],\n",
    "})\n",
    "\n",
    "df['request'].str.extract('GET /([^?]+)\\?', expand=True)"
   ]
  },
  {
   "cell_type": "markdown",
   "metadata": {
    "id": "_8mikXMvjahc"
   },
   "source": [
    "## Pandas Timestamp: Convert string to Timestamp, using date only"
   ]
  },
  {
   "cell_type": "markdown",
   "metadata": {
    "id": "smKFFysmlQOx"
   },
   "source": [
    "I.e. Midnight on the given date."
   ]
  },
  {
   "cell_type": "code",
   "execution_count": 13,
   "metadata": {
    "id": "ZPum-jBojGeF"
   },
   "outputs": [
    {
     "data": {
      "text/plain": [
       "Timestamp('2022-09-27 00:00:00-0700', tz='US/Pacific')"
      ]
     },
     "execution_count": 13,
     "metadata": {},
     "output_type": "execute_result"
    }
   ],
   "source": [
    "import pandas as pd\n",
    "\n",
    "pd.Timestamp('9/27/22').tz_localize('US/Pacific')"
   ]
  },
  {
   "cell_type": "markdown",
   "metadata": {
    "id": "QlE2B9gYlUto"
   },
   "source": [
    "## Pandas Timestamp: Convert string to Timestamp"
   ]
  },
  {
   "cell_type": "code",
   "execution_count": 14,
   "metadata": {
    "id": "qZeu0qa3jpcu"
   },
   "outputs": [
    {
     "data": {
      "text/plain": [
       "Timestamp('2022-09-27 06:59:00-0700', tz='US/Pacific')"
      ]
     },
     "execution_count": 14,
     "metadata": {},
     "output_type": "execute_result"
    }
   ],
   "source": [
    "import pandas as pd\n",
    "\n",
    "pd.Timestamp('9/27/22 06:59').tz_localize('US/Pacific')"
   ]
  },
  {
   "cell_type": "markdown",
   "metadata": {
    "id": "M-p8mTaHlE3I"
   },
   "source": [
    "## Pandas: Create a TimeDelta using `unit`"
   ]
  },
  {
   "cell_type": "markdown",
   "metadata": {
    "id": "1iYqXT8qmEZn"
   },
   "source": [
    "From an integer.\n",
    "`unit` is a string, defaulting to `ns`. Possible values:\n"
   ]
  },
  {
   "cell_type": "code",
   "execution_count": 15,
   "metadata": {
    "id": "zNo40II-lD2q"
   },
   "outputs": [
    {
     "data": {
      "text/plain": [
       "Timedelta('0 days 01:00:00')"
      ]
     },
     "execution_count": 15,
     "metadata": {},
     "output_type": "execute_result"
    }
   ],
   "source": [
    "import pandas as pd\n",
    "\n",
    "pd.to_timedelta(1, unit='h') ## method to create a timedelta object"
   ]
  },
  {
   "cell_type": "markdown",
   "metadata": {
    "id": "FMQyJtg5mmCx"
   },
   "source": [
    "## Pandas: Create a TimeDelta using available kwargs"
   ]
  },
  {
   "cell_type": "markdown",
   "metadata": {
    "id": "Wh4w12fS4v0J"
   },
   "source": [
    "Example keyworded args: {days, seconds, microseconds, milliseconds, minutes, hours, weeks}"
   ]
  },
  {
   "cell_type": "code",
   "execution_count": 16,
   "metadata": {
    "id": "giw4M16gmlkK"
   },
   "outputs": [
    {
     "data": {
      "text/plain": [
       "Timedelta('2 days 00:00:00')"
      ]
     },
     "execution_count": 16,
     "metadata": {},
     "output_type": "execute_result"
    }
   ],
   "source": [
    "import pandas as pd\n",
    "\n",
    "pd.Timedelta(days=2) ## another method to create a timedelta object with TimeDelta Class    "
   ]
  },
  {
   "cell_type": "markdown",
   "metadata": {
    "id": "xXR7N2sCmA-_"
   },
   "source": [
    "## Pandas: Create a TimeDelta from a string"
   ]
  },
  {
   "cell_type": "code",
   "execution_count": 17,
   "metadata": {
    "id": "_SjGanWwl0XG"
   },
   "outputs": [
    {
     "data": {
      "text/plain": [
       "Timedelta('2 days 02:15:30')"
      ]
     },
     "execution_count": 17,
     "metadata": {},
     "output_type": "execute_result"
    }
   ],
   "source": [
    "import pandas as pd\n",
    "\n",
    "pd.Timedelta('2 days 2 hours 15 minutes 30 seconds') "
   ]
  },
  {
   "cell_type": "markdown",
   "metadata": {
    "id": "fnwXL2jnEO0V"
   },
   "source": [
    "## Pandas: Replace NaN values in a Column"
   ]
  },
  {
   "cell_type": "code",
   "execution_count": 18,
   "metadata": {
    "id": "EeKjQOEJEOVh"
   },
   "outputs": [
    {
     "data": {
      "text/plain": [
       "0     5.0\n",
       "1    10.0\n",
       "2     0.0\n",
       "3     7.0\n",
       "Name: dogs, dtype: float64"
      ]
     },
     "execution_count": 18,
     "metadata": {},
     "output_type": "execute_result"
    }
   ],
   "source": [
    "import numpy as np\n",
    "import pandas as pd\n",
    "df = pd.DataFrame({\n",
    "  'dogs': [5, 10, np.nan, 7],\n",
    "})\n",
    "\n",
    "df['dogs'].replace(np.nan, 0, regex=True)"
   ]
  },
  {
   "cell_type": "markdown",
   "metadata": {
    "id": "OCuIYAhHJimy"
   },
   "source": [
    "## Pandas DataFrame: Drop duplicate rows"
   ]
  },
  {
   "cell_type": "code",
   "execution_count": 19,
   "metadata": {
    "id": "NjBDuqQSEgml"
   },
   "outputs": [
    {
     "data": {
      "text/html": [
       "<div>\n",
       "<style scoped>\n",
       "    .dataframe tbody tr th:only-of-type {\n",
       "        vertical-align: middle;\n",
       "    }\n",
       "\n",
       "    .dataframe tbody tr th {\n",
       "        vertical-align: top;\n",
       "    }\n",
       "\n",
       "    .dataframe thead th {\n",
       "        text-align: right;\n",
       "    }\n",
       "</style>\n",
       "<table border=\"1\" class=\"dataframe\">\n",
       "  <thead>\n",
       "    <tr style=\"text-align: right;\">\n",
       "      <th></th>\n",
       "      <th>first_name</th>\n",
       "    </tr>\n",
       "    <tr>\n",
       "      <th>last_name</th>\n",
       "      <th></th>\n",
       "    </tr>\n",
       "  </thead>\n",
       "  <tbody>\n",
       "    <tr>\n",
       "      <th>Connor</th>\n",
       "      <td>Sarah</td>\n",
       "    </tr>\n",
       "    <tr>\n",
       "      <th>Reese</th>\n",
       "      <td>Kyle</td>\n",
       "    </tr>\n",
       "    <tr>\n",
       "      <th>Bonnot</th>\n",
       "      <td>Joe</td>\n",
       "    </tr>\n",
       "  </tbody>\n",
       "</table>\n",
       "</div>"
      ],
      "text/plain": [
       "          first_name\n",
       "last_name           \n",
       "Connor         Sarah\n",
       "Reese           Kyle\n",
       "Bonnot           Joe"
      ]
     },
     "execution_count": 19,
     "metadata": {},
     "output_type": "execute_result"
    }
   ],
   "source": [
    "import pandas as pd\n",
    "df = pd.DataFrame({\n",
    "  'first_name': ['Sarah', 'John', 'Kyle', 'Joe'],\n",
    "  'last_name': ['Connor', 'Connor', 'Reese', 'Bonnot'],\n",
    "})\n",
    "df.set_index('last_name', inplace=True)\n",
    "\n",
    "df.loc[~df.index.duplicated(), :]"
   ]
  },
  {
   "cell_type": "markdown",
   "metadata": {
    "id": "dy-BKNgWUwnQ"
   },
   "source": [
    "## Pandas DataFrame: Ignore one Column"
   ]
  },
  {
   "cell_type": "code",
   "execution_count": 20,
   "metadata": {
    "id": "y00BW8DOUxGs"
   },
   "outputs": [
    {
     "data": {
      "text/html": [
       "<div>\n",
       "<style scoped>\n",
       "    .dataframe tbody tr th:only-of-type {\n",
       "        vertical-align: middle;\n",
       "    }\n",
       "\n",
       "    .dataframe tbody tr th {\n",
       "        vertical-align: top;\n",
       "    }\n",
       "\n",
       "    .dataframe thead th {\n",
       "        text-align: right;\n",
       "    }\n",
       "</style>\n",
       "<table border=\"1\" class=\"dataframe\">\n",
       "  <thead>\n",
       "    <tr style=\"text-align: right;\">\n",
       "      <th></th>\n",
       "      <th>first_name</th>\n",
       "    </tr>\n",
       "  </thead>\n",
       "  <tbody>\n",
       "    <tr>\n",
       "      <th>0</th>\n",
       "      <td>Sarah</td>\n",
       "    </tr>\n",
       "    <tr>\n",
       "      <th>1</th>\n",
       "      <td>John</td>\n",
       "    </tr>\n",
       "    <tr>\n",
       "      <th>2</th>\n",
       "      <td>Kyle</td>\n",
       "    </tr>\n",
       "    <tr>\n",
       "      <th>3</th>\n",
       "      <td>Joe</td>\n",
       "    </tr>\n",
       "  </tbody>\n",
       "</table>\n",
       "</div>"
      ],
      "text/plain": [
       "  first_name\n",
       "0      Sarah\n",
       "1       John\n",
       "2       Kyle\n",
       "3        Joe"
      ]
     },
     "execution_count": 20,
     "metadata": {},
     "output_type": "execute_result"
    }
   ],
   "source": [
    "import pandas as pd\n",
    "df = pd.DataFrame({\n",
    "  'first_name': ['Sarah', 'John', 'Kyle', 'Joe'],\n",
    "  'last_name': ['Connor', 'Connor', 'Reese', 'Bonnot'],\n",
    "})\n",
    "\n",
    "df.loc[:, df.columns!='last_name']"
   ]
  },
  {
   "cell_type": "markdown",
   "metadata": {
    "id": "5Vp6gD9OVo1Z"
   },
   "source": [
    "## Pandas DataFrame: Intersect Indexes"
   ]
  },
  {
   "cell_type": "code",
   "execution_count": 21,
   "metadata": {
    "id": "Y3kdge_GVxO3"
   },
   "outputs": [
    {
     "data": {
      "text/plain": [
       "(1,)"
      ]
     },
     "execution_count": 21,
     "metadata": {},
     "output_type": "execute_result"
    }
   ],
   "source": [
    "import pandas as pd\n",
    "terminator_df = pd.DataFrame({\n",
    "  'first_name': ['Sarah', 'John', 'Kyle'],\n",
    "  'last_name': ['Connor', 'Connor', 'Reese'],\n",
    "})\n",
    "terminator_df.set_index('first_name', inplace=True)\n",
    "\n",
    "buckaroo_df = pd.DataFrame({\n",
    "  'first_name': ['John', 'John', 'Buckaroo'],\n",
    "  'last_name': ['Parker', 'Whorfin', 'Banzai'],\n",
    "})\n",
    "buckaroo_df.set_index('first_name', inplace=True)\n",
    "\n",
    "terminator_df.index.intersection(buckaroo_df.index).shape"
   ]
  },
  {
   "cell_type": "markdown",
   "metadata": {
    "id": "VVh1EtmVV0Qb"
   },
   "source": [
    "## Pandas DataFrame: Select all rows from A that are not in B, using the index"
   ]
  },
  {
   "cell_type": "code",
   "execution_count": 22,
   "metadata": {
    "id": "OUazjSSUV_45"
   },
   "outputs": [
    {
     "data": {
      "text/html": [
       "<div>\n",
       "<style scoped>\n",
       "    .dataframe tbody tr th:only-of-type {\n",
       "        vertical-align: middle;\n",
       "    }\n",
       "\n",
       "    .dataframe tbody tr th {\n",
       "        vertical-align: top;\n",
       "    }\n",
       "\n",
       "    .dataframe thead th {\n",
       "        text-align: right;\n",
       "    }\n",
       "</style>\n",
       "<table border=\"1\" class=\"dataframe\">\n",
       "  <thead>\n",
       "    <tr style=\"text-align: right;\">\n",
       "      <th></th>\n",
       "      <th>last_name</th>\n",
       "    </tr>\n",
       "    <tr>\n",
       "      <th>first_name</th>\n",
       "      <th></th>\n",
       "    </tr>\n",
       "  </thead>\n",
       "  <tbody>\n",
       "    <tr>\n",
       "      <th>Sarah</th>\n",
       "      <td>Connor</td>\n",
       "    </tr>\n",
       "    <tr>\n",
       "      <th>Kyle</th>\n",
       "      <td>Reese</td>\n",
       "    </tr>\n",
       "  </tbody>\n",
       "</table>\n",
       "</div>"
      ],
      "text/plain": [
       "           last_name\n",
       "first_name          \n",
       "Sarah         Connor\n",
       "Kyle           Reese"
      ]
     },
     "execution_count": 22,
     "metadata": {},
     "output_type": "execute_result"
    }
   ],
   "source": [
    "import pandas as pd\n",
    "terminator_df = pd.DataFrame({\n",
    "  'first_name': ['Sarah', 'John', 'Kyle'],\n",
    "  'last_name': ['Connor', 'Connor', 'Reese'],\n",
    "})\n",
    "terminator_df.set_index('first_name', inplace=True)\n",
    "\n",
    "buckaroo_df = pd.DataFrame({\n",
    "  'first_name': ['John', 'John', 'Buckaroo'],\n",
    "  'last_name': ['Parker', 'Whorfin', 'Banzai'],\n",
    "})\n",
    "buckaroo_df.set_index('first_name', inplace=True)\n",
    "\n",
    "terminator_df[~terminator_df.index.isin(buckaroo_df.index)]"
   ]
  },
  {
   "cell_type": "markdown",
   "metadata": {
    "id": "MVTdtZJAWItJ"
   },
   "source": [
    "## Pandas DataFrame: Select rows by an attribute of a column value"
   ]
  },
  {
   "cell_type": "markdown",
   "metadata": {
    "id": "a2XfO20JWYy7"
   },
   "source": [
    "Use the Series `map()` method.\n",
    "E.g. To filter by the length of a column values:"
   ]
  },
  {
   "cell_type": "code",
   "execution_count": 23,
   "metadata": {
    "id": "rmuXV7bzVnU-"
   },
   "outputs": [
    {
     "data": {
      "text/html": [
       "<div>\n",
       "<style scoped>\n",
       "    .dataframe tbody tr th:only-of-type {\n",
       "        vertical-align: middle;\n",
       "    }\n",
       "\n",
       "    .dataframe tbody tr th {\n",
       "        vertical-align: top;\n",
       "    }\n",
       "\n",
       "    .dataframe thead th {\n",
       "        text-align: right;\n",
       "    }\n",
       "</style>\n",
       "<table border=\"1\" class=\"dataframe\">\n",
       "  <thead>\n",
       "    <tr style=\"text-align: right;\">\n",
       "      <th></th>\n",
       "      <th>first_name</th>\n",
       "      <th>last_name</th>\n",
       "    </tr>\n",
       "  </thead>\n",
       "  <tbody>\n",
       "    <tr>\n",
       "      <th>2</th>\n",
       "      <td>Kyle</td>\n",
       "      <td>Reese</td>\n",
       "    </tr>\n",
       "  </tbody>\n",
       "</table>\n",
       "</div>"
      ],
      "text/plain": [
       "  first_name last_name\n",
       "2       Kyle     Reese"
      ]
     },
     "execution_count": 23,
     "metadata": {},
     "output_type": "execute_result"
    }
   ],
   "source": [
    "import pandas as pd\n",
    "df = pd.DataFrame({\n",
    "  'first_name': ['Sarah', 'John', 'Kyle'],\n",
    "  'last_name': ['Connor', 'Connor', 'Reese'],\n",
    "})\n",
    "\n",
    "df[df['last_name'].map(len) == 5]"
   ]
  },
  {
   "cell_type": "markdown",
   "metadata": {
    "id": "AMQ60B9Gghjh"
   },
   "source": [
    "## Pandas DataFrame: Sort the count of rows grouped on columns"
   ]
  },
  {
   "cell_type": "code",
   "execution_count": 24,
   "metadata": {
    "id": "j4nwrfh-gVxX"
   },
   "outputs": [
    {
     "data": {
      "text/plain": [
       "last_name\n",
       "Connor    2\n",
       "Reese     1\n",
       "dtype: int64"
      ]
     },
     "execution_count": 24,
     "metadata": {},
     "output_type": "execute_result"
    }
   ],
   "source": [
    "import pandas as pd\n",
    "df = pd.DataFrame({\n",
    "  'first_name': ['Sarah', 'John', 'Kyle'],\n",
    "  'last_name': ['Connor', 'Connor', 'Reese'],\n",
    "})\n",
    "\n",
    "df.groupby(['last_name']).size().sort_values(ascending=False)"
   ]
  },
  {
   "cell_type": "markdown",
   "metadata": {
    "id": "IRl1d3PY0ulI"
   },
   "source": [
    "## Pandas DataFrame: Reshape to have 1 row per value in a list column"
   ]
  },
  {
   "cell_type": "markdown",
   "metadata": {
    "id": "I2Pberyl1KTk"
   },
   "source": [
    "Creates a new DataFrame that is a transformed version of the input. E.g.\n",
    "*   Input: df with a column named `msg_ids` that is a list of values (i.e. many per row, at least in some rows).\n",
    "*   Output: new_df which has 1 row per unique value found in any of the original `msg_ids` lists, with that value in a new column named `msg_id`.\n"
   ]
  },
  {
   "cell_type": "code",
   "execution_count": 25,
   "metadata": {
    "id": "AvPNQJFn090X"
   },
   "outputs": [
    {
     "name": "stderr",
     "output_type": "stream",
     "text": [
      "C:\\Users\\HP\\AppData\\Local\\Temp\\ipykernel_25872\\2243589038.py:10: FutureWarning: the convert_dtype parameter is deprecated and will be removed in a future version.  Do ``ser.astype(object).apply()`` instead if you want ``convert_dtype=False``.\n",
      "  temp_series = df['msg_ids'].apply(pd.Series, 1).stack()\n"
     ]
    },
    {
     "data": {
      "text/html": [
       "<div>\n",
       "<style scoped>\n",
       "    .dataframe tbody tr th:only-of-type {\n",
       "        vertical-align: middle;\n",
       "    }\n",
       "\n",
       "    .dataframe tbody tr th {\n",
       "        vertical-align: top;\n",
       "    }\n",
       "\n",
       "    .dataframe thead th {\n",
       "        text-align: right;\n",
       "    }\n",
       "</style>\n",
       "<table border=\"1\" class=\"dataframe\">\n",
       "  <thead>\n",
       "    <tr style=\"text-align: right;\">\n",
       "      <th></th>\n",
       "    </tr>\n",
       "    <tr>\n",
       "      <th>msg_id</th>\n",
       "    </tr>\n",
       "  </thead>\n",
       "  <tbody>\n",
       "    <tr>\n",
       "      <th>1.0</th>\n",
       "    </tr>\n",
       "    <tr>\n",
       "      <th>2.0</th>\n",
       "    </tr>\n",
       "    <tr>\n",
       "      <th>3.0</th>\n",
       "    </tr>\n",
       "  </tbody>\n",
       "</table>\n",
       "</div>"
      ],
      "text/plain": [
       "Empty DataFrame\n",
       "Columns: []\n",
       "Index: [1.0, 2.0, 3.0]"
      ]
     },
     "execution_count": 25,
     "metadata": {},
     "output_type": "execute_result"
    }
   ],
   "source": [
    "import pandas as pd\n",
    "df = pd.DataFrame({\n",
    "  'date': ['9/1/22', '9/2/22', '9/3/22'],\n",
    "  'action': ['Add', 'Update', 'Delete'],\n",
    "  'msg_ids': [[1, 2, 3], [], [2, 3]],\n",
    "})\n",
    "df.set_index('date', inplace=True)\n",
    "\n",
    "\n",
    "temp_series = df['msg_ids'].apply(pd.Series, 1).stack()\n",
    "temp_series.index = temp_series.index.droplevel(-1)\n",
    "temp_series.name = 'msg_id'\n",
    "new_df = temp_series.to_frame()\n",
    "new_df.set_index('msg_id', inplace=True)\n",
    "new_df.loc[~new_df.index.duplicated(), :] # Drop duplicates."
   ]
  },
  {
   "cell_type": "markdown",
   "metadata": {
    "id": "I14ORpEPP4Wr"
   },
   "source": [
    "## Pandas: DataFrames: Group Timeseries by Frequency"
   ]
  },
  {
   "cell_type": "markdown",
   "metadata": {
    "id": "yycF10l6Qe8Y"
   },
   "source": [
    "You can group timestamped data into intervals of arbitrary duration using a Grouper object to specify groupby instructions.  The `freq` parameter is a string that may contain an integer followed by an [offset alias](https://pandas.pydata.org/pandas-docs/stable/user_guide/timeseries.html#offset-aliases).  E.g. To see output for 2 minute long intervals:"
   ]
  },
  {
   "cell_type": "code",
   "execution_count": 26,
   "metadata": {
    "id": "9Eh3efwfQeFr"
   },
   "outputs": [
    {
     "data": {
      "text/html": [
       "<div>\n",
       "<style scoped>\n",
       "    .dataframe tbody tr th:only-of-type {\n",
       "        vertical-align: middle;\n",
       "    }\n",
       "\n",
       "    .dataframe tbody tr th {\n",
       "        vertical-align: top;\n",
       "    }\n",
       "\n",
       "    .dataframe thead th {\n",
       "        text-align: right;\n",
       "    }\n",
       "</style>\n",
       "<table border=\"1\" class=\"dataframe\">\n",
       "  <thead>\n",
       "    <tr style=\"text-align: right;\">\n",
       "      <th></th>\n",
       "      <th>requests</th>\n",
       "    </tr>\n",
       "    <tr>\n",
       "      <th>time</th>\n",
       "      <th></th>\n",
       "    </tr>\n",
       "  </thead>\n",
       "  <tbody>\n",
       "    <tr>\n",
       "      <th>2022-09-01 00:00:00-07:00</th>\n",
       "      <td>3</td>\n",
       "    </tr>\n",
       "    <tr>\n",
       "      <th>2022-09-01 00:02:00-07:00</th>\n",
       "      <td>2</td>\n",
       "    </tr>\n",
       "    <tr>\n",
       "      <th>2022-09-01 00:04:00-07:00</th>\n",
       "      <td>2</td>\n",
       "    </tr>\n",
       "    <tr>\n",
       "      <th>2022-09-01 00:06:00-07:00</th>\n",
       "      <td>1</td>\n",
       "    </tr>\n",
       "  </tbody>\n",
       "</table>\n",
       "</div>"
      ],
      "text/plain": [
       "                           requests\n",
       "time                               \n",
       "2022-09-01 00:00:00-07:00         3\n",
       "2022-09-01 00:02:00-07:00         2\n",
       "2022-09-01 00:04:00-07:00         2\n",
       "2022-09-01 00:06:00-07:00         1"
      ]
     },
     "execution_count": 26,
     "metadata": {},
     "output_type": "execute_result"
    }
   ],
   "source": [
    "import pandas as pd\n",
    "df = pd.DataFrame({\n",
    "  'time': ['2022-09-01 00:00:01-07:00', '2022-09-01 00:00:02-07:00',\n",
    "           '2022-09-01 00:01:00-07:00', '2022-09-01 00:02:00-07:00',\n",
    "           '2022-09-01 00:03:00-07:00', '2022-09-01 00:04:00-07:00',\n",
    "           '2022-09-01 00:05:00-07:00', '2022-09-01 00:07:00-07:00'],\n",
    "  'requests': [1, 1, 1, 1, 1, 1, 1, 1],\n",
    "})\n",
    "df['time'] = pd.to_datetime(df.time)\n",
    "\n",
    "df.groupby(pd.Grouper(key='time', freq='2min')).sum()"
   ]
  }
 ],
 "metadata": {
  "colab": {
   "private_outputs": true,
   "provenance": [],
   "toc_visible": true
  },
  "kernelspec": {
   "display_name": "Python 3 (ipykernel)",
   "language": "python",
   "name": "python3"
  },
  "language_info": {
   "codemirror_mode": {
    "name": "ipython",
    "version": 3
   },
   "file_extension": ".py",
   "mimetype": "text/x-python",
   "name": "python",
   "nbconvert_exporter": "python",
   "pygments_lexer": "ipython3",
   "version": "3.13.5"
  }
 },
 "nbformat": 4,
 "nbformat_minor": 4
}
