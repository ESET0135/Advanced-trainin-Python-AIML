{
 "cells": [
  {
   "cell_type": "code",
   "execution_count": 4,
   "id": "c0136d7f-f7d3-41fa-ab93-758c72bcc4e7",
   "metadata": {},
   "outputs": [
    {
     "name": "stderr",
     "output_type": "stream",
     "text": [
      "C:\\Users\\HP\\AppData\\Local\\Temp\\ipykernel_60992\\1921086550.py:3: FutureWarning: Passing literal xml to 'read_xml' is deprecated and will be removed in a future version. To read from a literal string, wrap it in a 'StringIO' object.\n",
      "  dataframe=pd.read_xml('xml_namespace.xml',namespaces=namespaces,xpath='.//ns:city')\n"
     ]
    },
    {
     "ename": "XMLSyntaxError",
     "evalue": "Start tag expected, '<' not found, line 1, column 1 (<string>, line 1)",
     "output_type": "error",
     "traceback": [
      "Traceback \u001b[36m(most recent call last)\u001b[39m:\n",
      "  File \u001b[92m~\\AppData\\Roaming\\Python\\Python313\\site-packages\\IPython\\core\\interactiveshell.py:3699\u001b[39m in \u001b[95mrun_code\u001b[39m\n    exec(code_obj, self.user_global_ns, self.user_ns)\n",
      "  Cell \u001b[92mIn[4]\u001b[39m\u001b[92m, line 3\u001b[39m\n    dataframe=pd.read_xml('xml_namespace.xml',namespaces=namespaces,xpath='.//ns:city')\n",
      "  File \u001b[92mC:\\ProgramData\\anaconda3\\Lib\\site-packages\\pandas\\io\\xml.py:1160\u001b[39m in \u001b[95mread_xml\u001b[39m\n    return _parse(\n",
      "  File \u001b[92mC:\\ProgramData\\anaconda3\\Lib\\site-packages\\pandas\\io\\xml.py:852\u001b[39m in \u001b[95m_parse\u001b[39m\n    data_dicts = p.parse_data()\n",
      "  File \u001b[92mC:\\ProgramData\\anaconda3\\Lib\\site-packages\\pandas\\io\\xml.py:556\u001b[39m in \u001b[95mparse_data\u001b[39m\n    self.xml_doc = self._parse_doc(self.path_or_buffer)\n",
      "  File \u001b[92mC:\\ProgramData\\anaconda3\\Lib\\site-packages\\pandas\\io\\xml.py:647\u001b[39m in \u001b[95m_parse_doc\u001b[39m\n    document = fromstring(\n",
      "  File \u001b[92msrc\\\\lxml\\\\etree.pyx:3306\u001b[39m in \u001b[95mlxml.etree.fromstring\u001b[39m\n",
      "  File \u001b[92msrc\\\\lxml\\\\parser.pxi:1995\u001b[39m in \u001b[95mlxml.etree._parseMemoryDocument\u001b[39m\n",
      "  File \u001b[92msrc\\\\lxml\\\\parser.pxi:1882\u001b[39m in \u001b[95mlxml.etree._parseDoc\u001b[39m\n",
      "  File \u001b[92msrc\\\\lxml\\\\parser.pxi:1164\u001b[39m in \u001b[95mlxml.etree._BaseParser._parseDoc\u001b[39m\n",
      "  File \u001b[92msrc\\\\lxml\\\\parser.pxi:633\u001b[39m in \u001b[95mlxml.etree._ParserContext._handleParseResultDoc\u001b[39m\n",
      "  File \u001b[92msrc\\\\lxml\\\\parser.pxi:743\u001b[39m in \u001b[95mlxml.etree._handleParseResult\u001b[39m\n",
      "\u001b[36m  \u001b[39m\u001b[36mFile \u001b[39m\u001b[32msrc\\\\lxml\\\\parser.pxi:672\u001b[39m\u001b[36m in \u001b[39m\u001b[35mlxml.etree._raiseParseError\u001b[39m\n",
      "  \u001b[36mFile \u001b[39m\u001b[32m<string>:1\u001b[39m\n\u001b[31mXMLSyntaxError\u001b[39m\u001b[31m:\u001b[39m Start tag expected, '<' not found, line 1, column 1\n"
     ]
    }
   ],
   "source": [
    "import pandas as pd\n",
    "namespaces={'ns':'htttp//www.example.com'}\n",
    "dataframe=pd.read_xml('xml_namespace.xml',namespaces=namespaces,xpath='.//ns:city')\n",
    "print(dataframe)"
   ]
  },
  {
   "cell_type": "code",
   "execution_count": 7,
   "id": "85895144-b744-4638-a0be-af000736a5a8",
   "metadata": {},
   "outputs": [
    {
     "data": {
      "text/html": [
       "<div>\n",
       "<style scoped>\n",
       "    .dataframe tbody tr th:only-of-type {\n",
       "        vertical-align: middle;\n",
       "    }\n",
       "\n",
       "    .dataframe tbody tr th {\n",
       "        vertical-align: top;\n",
       "    }\n",
       "\n",
       "    .dataframe thead th {\n",
       "        text-align: right;\n",
       "    }\n",
       "</style>\n",
       "<table border=\"1\" class=\"dataframe\">\n",
       "  <thead>\n",
       "    <tr style=\"text-align: right;\">\n",
       "      <th></th>\n",
       "      <th>Year</th>\n",
       "      <th>ani</th>\n",
       "    </tr>\n",
       "  </thead>\n",
       "  <tbody>\n",
       "    <tr>\n",
       "      <th>0</th>\n",
       "      <td>2016</td>\n",
       "      <td>A</td>\n",
       "    </tr>\n",
       "    <tr>\n",
       "      <th>1</th>\n",
       "      <td>2015</td>\n",
       "      <td>B</td>\n",
       "    </tr>\n",
       "    <tr>\n",
       "      <th>2</th>\n",
       "      <td>2014</td>\n",
       "      <td>C</td>\n",
       "    </tr>\n",
       "  </tbody>\n",
       "</table>\n",
       "</div>"
      ],
      "text/plain": [
       "   Year ani\n",
       "0  2016   A\n",
       "1  2015   B\n",
       "2  2014   C"
      ]
     },
     "execution_count": 7,
     "metadata": {},
     "output_type": "execute_result"
    }
   ],
   "source": [
    "import pandas as pd\n",
    "df=pd.DataFrame({\n",
    "    'Year':[2016,2015,2014],\n",
    "    'ani':['A','B','C']\n",
    "})\n",
    "df"
   ]
  },
  {
   "cell_type": "code",
   "execution_count": 8,
   "id": "69b0db63-3d69-401f-a25a-b5dcd1715e82",
   "metadata": {},
   "outputs": [
    {
     "data": {
      "text/html": [
       "<div>\n",
       "<style scoped>\n",
       "    .dataframe tbody tr th:only-of-type {\n",
       "        vertical-align: middle;\n",
       "    }\n",
       "\n",
       "    .dataframe tbody tr th {\n",
       "        vertical-align: top;\n",
       "    }\n",
       "\n",
       "    .dataframe thead th {\n",
       "        text-align: right;\n",
       "    }\n",
       "</style>\n",
       "<table border=\"1\" class=\"dataframe\">\n",
       "  <thead>\n",
       "    <tr style=\"text-align: right;\">\n",
       "      <th></th>\n",
       "      <th>time</th>\n",
       "      <th>letter</th>\n",
       "    </tr>\n",
       "  </thead>\n",
       "  <tbody>\n",
       "    <tr>\n",
       "      <th>1</th>\n",
       "      <td>2022-09-14 00:52:30-07:00</td>\n",
       "      <td>B</td>\n",
       "    </tr>\n",
       "    <tr>\n",
       "      <th>2</th>\n",
       "      <td>2022-09-14 01:52:30-07:00</td>\n",
       "      <td>C</td>\n",
       "    </tr>\n",
       "  </tbody>\n",
       "</table>\n",
       "</div>"
      ],
      "text/plain": [
       "                       time letter\n",
       "1 2022-09-14 00:52:30-07:00      B\n",
       "2 2022-09-14 01:52:30-07:00      C"
      ]
     },
     "execution_count": 8,
     "metadata": {},
     "output_type": "execute_result"
    }
   ],
   "source": [
    "import pandas as pd\n",
    "df = pd.DataFrame({\n",
    "  'time': ['2022-09-14 00:52:00-07:00', '2022-09-14 00:52:30-07:00',\n",
    "           '2022-09-14 01:52:30-07:00'],\n",
    "  'letter': ['A', 'B', 'C'],\n",
    "})\n",
    "df['time'] = pd.to_datetime(df.time)\n",
    " \n",
    "df.query('time >= \"2022-09-14 00:52:30-07:00\"')"
   ]
  },
  {
   "cell_type": "code",
   "execution_count": 9,
   "id": "21aaac74-64ee-4143-8ded-191d995d9a43",
   "metadata": {},
   "outputs": [
    {
     "name": "stdout",
     "output_type": "stream",
     "text": [
      "                 time  value\n",
      "1 2011-01-01 01:00:00     20\n",
      "2 2011-01-01 02:00:00     30\n"
     ]
    }
   ],
   "source": [
    "import pandas as pd\n",
    "\n",
    "# Example DataFrame\n",
    "data = {\n",
    "    'time': [\n",
    "        '2011-01-01 00:00:00',\n",
    "        '2011-01-01 01:00:00',\n",
    "        '2011-01-01 02:00:00'\n",
    "    ],\n",
    "    'value': [10, 20, 30]\n",
    "}\n",
    "\n",
    "df = pd.DataFrame(data)\n",
    "\n",
    "# Ensure the 'time' column is a datetime type\n",
    "df['time'] = pd.to_datetime(df['time'])\n",
    "\n",
    "def rows_in_time_range(df, time_col, start_time_str, end_time_str):\n",
    "    \"\"\"\n",
    "    Return rows from df where time_col is within start_time_str and end_time_str.\n",
    "    \n",
    "    Parameters:\n",
    "        df (pd.DataFrame): The DataFrame to filter.\n",
    "        time_col (str): Name of the datetime column.\n",
    "        start_time_str (str): Start of the time range (YYYY-MM-DD HH:MM:SS).\n",
    "        end_time_str (str): End of the time range (YYYY-MM-DD HH:MM:SS).\n",
    "    \n",
    "    Returns:\n",
    "        pd.DataFrame: Filtered rows within the time range.\n",
    "    \"\"\"\n",
    "    start_time = pd.to_datetime(start_time_str)\n",
    "    end_time = pd.to_datetime(end_time_str)\n",
    "    \n",
    "    return df[(df[time_col] >= start_time) & (df[time_col] <= end_time)]\n",
    "\n",
    "# Example usage\n",
    "filtered_df = rows_in_time_range(df, 'time', '2011-01-01 00:30:00', '2011-01-01 02:00:00')\n",
    "print(filtered_df)"
   ]
  },
  {
   "cell_type": "code",
   "execution_count": 10,
   "id": "d76ccc79-3b0b-4bdf-8fee-9af9c7f5a1d7",
   "metadata": {},
   "outputs": [
    {
     "data": {
      "text/html": [
       "<div>\n",
       "<style scoped>\n",
       "    .dataframe tbody tr th:only-of-type {\n",
       "        vertical-align: middle;\n",
       "    }\n",
       "\n",
       "    .dataframe tbody tr th {\n",
       "        vertical-align: top;\n",
       "    }\n",
       "\n",
       "    .dataframe thead th {\n",
       "        text-align: right;\n",
       "    }\n",
       "</style>\n",
       "<table border=\"1\" class=\"dataframe\">\n",
       "  <thead>\n",
       "    <tr style=\"text-align: right;\">\n",
       "      <th></th>\n",
       "      <th>date</th>\n",
       "      <th>letter</th>\n",
       "      <th>fruit</th>\n",
       "      <th>weather</th>\n",
       "    </tr>\n",
       "  </thead>\n",
       "  <tbody>\n",
       "    <tr>\n",
       "      <th>0</th>\n",
       "      <td>2022-09-14</td>\n",
       "      <td>A</td>\n",
       "      <td>apple</td>\n",
       "      <td>aces</td>\n",
       "    </tr>\n",
       "    <tr>\n",
       "      <th>1</th>\n",
       "      <td>2022-09-15</td>\n",
       "      <td>B</td>\n",
       "      <td>banana</td>\n",
       "      <td>bad</td>\n",
       "    </tr>\n",
       "    <tr>\n",
       "      <th>2</th>\n",
       "      <td>2022-09-16</td>\n",
       "      <td>C</td>\n",
       "      <td>cantaloupe</td>\n",
       "      <td>cloudy</td>\n",
       "    </tr>\n",
       "  </tbody>\n",
       "</table>\n",
       "</div>"
      ],
      "text/plain": [
       "         date letter       fruit weather\n",
       "0  2022-09-14      A       apple    aces\n",
       "1  2022-09-15      B      banana     bad\n",
       "2  2022-09-16      C  cantaloupe  cloudy"
      ]
     },
     "execution_count": 10,
     "metadata": {},
     "output_type": "execute_result"
    }
   ],
   "source": [
    "import pandas as pd\n",
    "df = pd.DataFrame({\n",
    "  'date': ['2022-09-14', '2022-09-15', '2022-09-16'],\n",
    "  'letter': ['A', 'B', 'C'],\n",
    "  'dict' : [{ 'fruit': 'apple', 'weather': 'aces'},\n",
    "            { 'fruit': 'banana', 'weather': 'bad'},\n",
    "            { 'fruit': 'cantaloupe', 'weather': 'cloudy'}],\n",
    "})\n",
    " \n",
    "pd.concat([df.drop(['dict'], axis=1), df['dict'].apply(pd.Series)], axis=1)"
   ]
  },
  {
   "cell_type": "code",
   "execution_count": 11,
   "id": "64fb354d-a3e7-4bb1-bedb-d83d17e496a0",
   "metadata": {},
   "outputs": [
    {
     "name": "stdout",
     "output_type": "stream",
     "text": [
      "1 days 06:30:00\n"
     ]
    }
   ],
   "source": [
    "import pandas as pd\n",
    "td = pd.to_timedelta('1 days 06:30:00')\n",
    "print(td)"
   ]
  },
  {
   "cell_type": "code",
   "execution_count": 12,
   "id": "fdce8d0f-19fe-4ea5-b765-772b2bc1271a",
   "metadata": {},
   "outputs": [
    {
     "name": "stdout",
     "output_type": "stream",
     "text": [
      "Original:\n",
      "    name  age city\n",
      "0  Alice   25   NY\n",
      "1    Bob   30   LA\n",
      "2  Alice   25   NY\n",
      "3  Carol   27   SF\n",
      "4    Bob   30   LA\n",
      "\n",
      "Drop exact duplicates (keep first):\n",
      "    name  age city\n",
      "0  Alice   25   NY\n",
      "1    Bob   30   LA\n",
      "3  Carol   27   SF\n",
      "\n",
      "Drop duplicates based on 'name' (keep first):\n",
      "    name  age city\n",
      "0  Alice   25   NY\n",
      "1    Bob   30   LA\n",
      "3  Carol   27   SF\n"
     ]
    }
   ],
   "source": [
    "import pandas as pd\n",
    "df = pd.DataFrame({\n",
    "    'name': ['Alice', 'Bob', 'Alice', 'Carol', 'Bob'],\n",
    "    'age':  [25,     30,   25,     27,     30],\n",
    "    'city': ['NY',   'LA',  'NY',   'SF',   'LA']\n",
    "})\n",
    "\n",
    "print(\"Original:\")\n",
    "print(df)\n",
    "\n",
    "df_unique = df.drop_duplicates()\n",
    "print(\"\\nDrop exact duplicates (keep first):\")\n",
    "print(df_unique)\n",
    "\n",
    "df_name_unique = df.drop_duplicates(subset=['name'], keep='first')\n",
    "print(\"\\nDrop duplicates based on 'name' (keep first):\")\n",
    "print(df_name_unique)\n"
   ]
  },
  {
   "cell_type": "code",
   "execution_count": 14,
   "id": "a421309d-40ce-4fa3-999a-29ac0cb2535c",
   "metadata": {},
   "outputs": [
    {
     "data": {
      "text/html": [
       "<div>\n",
       "<style scoped>\n",
       "    .dataframe tbody tr th:only-of-type {\n",
       "        vertical-align: middle;\n",
       "    }\n",
       "\n",
       "    .dataframe tbody tr th {\n",
       "        vertical-align: top;\n",
       "    }\n",
       "\n",
       "    .dataframe thead th {\n",
       "        text-align: right;\n",
       "    }\n",
       "</style>\n",
       "<table border=\"1\" class=\"dataframe\">\n",
       "  <thead>\n",
       "    <tr style=\"text-align: right;\">\n",
       "      <th></th>\n",
       "      <th>name</th>\n",
       "      <th>city</th>\n",
       "    </tr>\n",
       "  </thead>\n",
       "  <tbody>\n",
       "    <tr>\n",
       "      <th>0</th>\n",
       "      <td>Alice</td>\n",
       "      <td>NY</td>\n",
       "    </tr>\n",
       "    <tr>\n",
       "      <th>1</th>\n",
       "      <td>Bob</td>\n",
       "      <td>LA</td>\n",
       "    </tr>\n",
       "    <tr>\n",
       "      <th>2</th>\n",
       "      <td>Alice</td>\n",
       "      <td>NY</td>\n",
       "    </tr>\n",
       "    <tr>\n",
       "      <th>3</th>\n",
       "      <td>Carol</td>\n",
       "      <td>SF</td>\n",
       "    </tr>\n",
       "    <tr>\n",
       "      <th>4</th>\n",
       "      <td>Bob</td>\n",
       "      <td>LA</td>\n",
       "    </tr>\n",
       "  </tbody>\n",
       "</table>\n",
       "</div>"
      ],
      "text/plain": [
       "    name city\n",
       "0  Alice   NY\n",
       "1    Bob   LA\n",
       "2  Alice   NY\n",
       "3  Carol   SF\n",
       "4    Bob   LA"
      ]
     },
     "execution_count": 14,
     "metadata": {},
     "output_type": "execute_result"
    }
   ],
   "source": [
    "df.loc[:,df.columns!='age']"
   ]
  },
  {
   "cell_type": "code",
   "execution_count": 16,
   "id": "e03db18d-8130-48b4-83b9-f7c70c649f66",
   "metadata": {},
   "outputs": [
    {
     "name": "stdout",
     "output_type": "stream",
     "text": [
      "DataFrame 1:\n",
      "    A\n",
      "a  10\n",
      "b  20\n",
      "c  30\n",
      "\n",
      "DataFrame 2:\n",
      "     B\n",
      "b  100\n",
      "c  200\n",
      "d  300\n"
     ]
    }
   ],
   "source": [
    "import pandas as pd\n",
    "\n",
    "# Create two sample DataFrames with some overlapping indexes\n",
    "df1 = pd.DataFrame({'A': [10, 20, 30]}, index=['a', 'b', 'c'])\n",
    "df2 = pd.DataFrame({'B': [100, 200, 300]}, index=['b', 'c', 'd'])\n",
    "\n",
    "print(\"DataFrame 1:\")\n",
    "print(df1)\n",
    "print(\"\\nDataFrame 2:\")\n",
    "print(df2)\n",
    "\n",
    "# Find intersection of indexes\n",
    "common_index = df1.index.intersection(df2.index)\n"
   ]
  }
 ],
 "metadata": {
  "kernelspec": {
   "display_name": "Python 3 (ipykernel)",
   "language": "python",
   "name": "python3"
  },
  "language_info": {
   "codemirror_mode": {
    "name": "ipython",
    "version": 3
   },
   "file_extension": ".py",
   "mimetype": "text/x-python",
   "name": "python",
   "nbconvert_exporter": "python",
   "pygments_lexer": "ipython3",
   "version": "3.13.5"
  }
 },
 "nbformat": 4,
 "nbformat_minor": 5
}
