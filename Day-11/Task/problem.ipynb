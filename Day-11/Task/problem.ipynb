{
 "cells": [
  {
   "cell_type": "markdown",
   "id": "c77454fd",
   "metadata": {},
   "source": [
    "# create a workflow for a repository which automatically checks for lints and formatting in python program when push is added. (workflow.yml)"
   ]
  },
  {
   "cell_type": "markdown",
   "id": "1f9a022a",
   "metadata": {},
   "source": []
  }
 ],
 "metadata": {
  "language_info": {
   "name": "python"
  }
 },
 "nbformat": 4,
 "nbformat_minor": 5
}
