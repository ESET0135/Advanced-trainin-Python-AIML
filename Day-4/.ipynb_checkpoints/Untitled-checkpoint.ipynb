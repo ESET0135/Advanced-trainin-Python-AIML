{
 "cells": [
  {
   "cell_type": "markdown",
   "id": "81782368-3d25-4c3e-a871-96a643a20c95",
   "metadata": {},
   "source": [
    "# Task 1 Apply LabelEncoder, OneHotEncoder, and OrdinalEncoder to a sample dataset and compare the resulting feature space dimensions.\n"
   ]
  },
  {
   "cell_type": "code",
   "execution_count": 91,
   "id": "4a623cdf-301c-4bb1-94cf-f978aa6a2889",
   "metadata": {},
   "outputs": [],
   "source": [
    "import pandas as pd\n",
    "import numpy as np \n",
    "import matplotlib.pyplot as plt\n",
    "import seaborn as sns\n",
    "from sklearn.preprocessing import OrdinalEncoder, OneHotEncoder, LabelEncoder"
   ]
  },
  {
   "cell_type": "code",
   "execution_count": 71,
   "id": "96c2f7e8-7094-424c-8ec2-709ddf3ba365",
   "metadata": {},
   "outputs": [],
   "source": [
    "sample_data=({'color':['red','green','blue','green']})\n",
    "df=pd.DataFrame(sample_data)"
   ]
  },
  {
   "cell_type": "code",
   "execution_count": 72,
   "id": "e6faefec-cace-4351-8576-21aa592627a1",
   "metadata": {},
   "outputs": [
    {
     "data": {
      "text/html": [
       "<div>\n",
       "<style scoped>\n",
       "    .dataframe tbody tr th:only-of-type {\n",
       "        vertical-align: middle;\n",
       "    }\n",
       "\n",
       "    .dataframe tbody tr th {\n",
       "        vertical-align: top;\n",
       "    }\n",
       "\n",
       "    .dataframe thead th {\n",
       "        text-align: right;\n",
       "    }\n",
       "</style>\n",
       "<table border=\"1\" class=\"dataframe\">\n",
       "  <thead>\n",
       "    <tr style=\"text-align: right;\">\n",
       "      <th></th>\n",
       "      <th>color</th>\n",
       "    </tr>\n",
       "  </thead>\n",
       "  <tbody>\n",
       "    <tr>\n",
       "      <th>0</th>\n",
       "      <td>red</td>\n",
       "    </tr>\n",
       "    <tr>\n",
       "      <th>1</th>\n",
       "      <td>green</td>\n",
       "    </tr>\n",
       "    <tr>\n",
       "      <th>2</th>\n",
       "      <td>blue</td>\n",
       "    </tr>\n",
       "    <tr>\n",
       "      <th>3</th>\n",
       "      <td>green</td>\n",
       "    </tr>\n",
       "  </tbody>\n",
       "</table>\n",
       "</div>"
      ],
      "text/plain": [
       "   color\n",
       "0    red\n",
       "1  green\n",
       "2   blue\n",
       "3  green"
      ]
     },
     "execution_count": 72,
     "metadata": {},
     "output_type": "execute_result"
    }
   ],
   "source": [
    "df"
   ]
  },
  {
   "cell_type": "code",
   "execution_count": 73,
   "id": "53b69c6a-e55f-40ba-a527-b586802c276c",
   "metadata": {},
   "outputs": [],
   "source": [
    "OE=OrdinalEncoder()\n",
    "df['Ordinal_encoder']=OE.fit_transform(df[['color']])\n"
   ]
  },
  {
   "cell_type": "code",
   "execution_count": 74,
   "id": "428fc8a9-3263-4969-a6e3-79c5121adc42",
   "metadata": {},
   "outputs": [
    {
     "data": {
      "text/plain": [
       "0    2.0\n",
       "1    1.0\n",
       "2    0.0\n",
       "3    1.0\n",
       "Name: Ordinal_encoder, dtype: float64"
      ]
     },
     "execution_count": 74,
     "metadata": {},
     "output_type": "execute_result"
    }
   ],
   "source": [
    "df['Ordinal_encoder']"
   ]
  },
  {
   "cell_type": "code",
   "execution_count": 75,
   "id": "bbad1b3e-32d5-429a-98ba-dd2844cef606",
   "metadata": {},
   "outputs": [],
   "source": [
    "LE=LabelEncoder()\n",
    "df['Label_encoder']=LE.fit_transform(df['color'])"
   ]
  },
  {
   "cell_type": "code",
   "execution_count": 76,
   "id": "d7da00df-bf96-4431-823f-abef026a7271",
   "metadata": {},
   "outputs": [
    {
     "data": {
      "text/plain": [
       "0    2\n",
       "1    1\n",
       "2    0\n",
       "3    1\n",
       "Name: Label_encoder, dtype: int64"
      ]
     },
     "execution_count": 76,
     "metadata": {},
     "output_type": "execute_result"
    }
   ],
   "source": [
    "df['Label_encoder']"
   ]
  },
  {
   "cell_type": "code",
   "execution_count": 85,
   "id": "0e40711f-d171-4e16-97e5-4e2f3efabd4c",
   "metadata": {},
   "outputs": [],
   "source": [
    "OHE=OneHotEncoder(sparse_output=False,handle_unknown='ignore')\n",
    "dff = pd.get_dummies(df, columns=['color'])\n",
    "df=pd.concat([df,dff],axis=1)\n",
    "# OHE = OneHotEncoder(sparse=False)\n",
    "# dff = OHE.fit_transform(df[['color']])"
   ]
  },
  {
   "cell_type": "markdown",
   "id": "e0dfb8b3-161b-4f55-8749-e249f920e696",
   "metadata": {},
   "source": [
    "# Task 2 Apply both StandardScaler and MinMaxScaler on any numerical dataset and visualize the difference using boxplots. "
   ]
  },
  {
   "cell_type": "code",
   "execution_count": 83,
   "id": "bef28db0-31da-4dd4-aec2-6a1801795be8",
   "metadata": {},
   "outputs": [],
   "source": [
    "from sklearn.preprocessing import StandardScaler ,MinMaxScaler"
   ]
  },
  {
   "cell_type": "code",
   "execution_count": 95,
   "id": "b3634f03-0f78-4273-9c0f-cd6a9a8b8a14",
   "metadata": {},
   "outputs": [
    {
     "data": {
      "text/html": [
       "<div>\n",
       "<style scoped>\n",
       "    .dataframe tbody tr th:only-of-type {\n",
       "        vertical-align: middle;\n",
       "    }\n",
       "\n",
       "    .dataframe tbody tr th {\n",
       "        vertical-align: top;\n",
       "    }\n",
       "\n",
       "    .dataframe thead th {\n",
       "        text-align: right;\n",
       "    }\n",
       "</style>\n",
       "<table border=\"1\" class=\"dataframe\">\n",
       "  <thead>\n",
       "    <tr style=\"text-align: right;\">\n",
       "      <th></th>\n",
       "      <th>survived</th>\n",
       "      <th>pclass</th>\n",
       "      <th>sex</th>\n",
       "      <th>age</th>\n",
       "      <th>sibsp</th>\n",
       "      <th>parch</th>\n",
       "      <th>fare</th>\n",
       "      <th>embarked</th>\n",
       "      <th>class</th>\n",
       "      <th>who</th>\n",
       "      <th>adult_male</th>\n",
       "      <th>deck</th>\n",
       "      <th>embark_town</th>\n",
       "      <th>alive</th>\n",
       "      <th>alone</th>\n",
       "    </tr>\n",
       "  </thead>\n",
       "  <tbody>\n",
       "    <tr>\n",
       "      <th>0</th>\n",
       "      <td>0</td>\n",
       "      <td>3</td>\n",
       "      <td>male</td>\n",
       "      <td>22.0</td>\n",
       "      <td>1</td>\n",
       "      <td>0</td>\n",
       "      <td>7.2500</td>\n",
       "      <td>S</td>\n",
       "      <td>Third</td>\n",
       "      <td>man</td>\n",
       "      <td>True</td>\n",
       "      <td>NaN</td>\n",
       "      <td>Southampton</td>\n",
       "      <td>no</td>\n",
       "      <td>False</td>\n",
       "    </tr>\n",
       "    <tr>\n",
       "      <th>1</th>\n",
       "      <td>1</td>\n",
       "      <td>1</td>\n",
       "      <td>female</td>\n",
       "      <td>38.0</td>\n",
       "      <td>1</td>\n",
       "      <td>0</td>\n",
       "      <td>71.2833</td>\n",
       "      <td>C</td>\n",
       "      <td>First</td>\n",
       "      <td>woman</td>\n",
       "      <td>False</td>\n",
       "      <td>C</td>\n",
       "      <td>Cherbourg</td>\n",
       "      <td>yes</td>\n",
       "      <td>False</td>\n",
       "    </tr>\n",
       "  </tbody>\n",
       "</table>\n",
       "</div>"
      ],
      "text/plain": [
       "   survived  pclass     sex   age  sibsp  parch     fare embarked  class  \\\n",
       "0         0       3    male  22.0      1      0   7.2500        S  Third   \n",
       "1         1       1  female  38.0      1      0  71.2833        C  First   \n",
       "\n",
       "     who  adult_male deck  embark_town alive  alone  \n",
       "0    man        True  NaN  Southampton    no  False  \n",
       "1  woman       False    C    Cherbourg   yes  False  "
      ]
     },
     "execution_count": 95,
     "metadata": {},
     "output_type": "execute_result"
    }
   ],
   "source": [
    "df=pd.DataFrame(sns.load_dataset('titanic'))\n",
    "df.head(2)"
   ]
  },
  {
   "cell_type": "code",
   "execution_count": 98,
   "id": "e05ef148-baac-4a27-88eb-e35f89ea4742",
   "metadata": {},
   "outputs": [],
   "source": [
    "ss=StandardScaler()\n",
    "df['Age_StandardScaler']=ss.fit_transform(df[['age']])"
   ]
  },
  {
   "cell_type": "code",
   "execution_count": 100,
   "id": "af0a0b12-6859-44af-839a-fbd67ce6778e",
   "metadata": {},
   "outputs": [],
   "source": [
    "mm=MinMaxScaler()\n",
    "df['MinMaxScaler']=mm.fit_transform(df[['age']])"
   ]
  },
  {
   "cell_type": "code",
   "execution_count": 105,
   "id": "342a401d-fd30-4b95-9b83-14cb26fe93de",
   "metadata": {},
   "outputs": [
    {
     "data": {
      "text/html": [
       "<div>\n",
       "<style scoped>\n",
       "    .dataframe tbody tr th:only-of-type {\n",
       "        vertical-align: middle;\n",
       "    }\n",
       "\n",
       "    .dataframe tbody tr th {\n",
       "        vertical-align: top;\n",
       "    }\n",
       "\n",
       "    .dataframe thead th {\n",
       "        text-align: right;\n",
       "    }\n",
       "</style>\n",
       "<table border=\"1\" class=\"dataframe\">\n",
       "  <thead>\n",
       "    <tr style=\"text-align: right;\">\n",
       "      <th></th>\n",
       "      <th>survived</th>\n",
       "      <th>pclass</th>\n",
       "      <th>age</th>\n",
       "      <th>sibsp</th>\n",
       "      <th>parch</th>\n",
       "      <th>fare</th>\n",
       "      <th>Age_StandardScaler</th>\n",
       "      <th>MinMaxScaler</th>\n",
       "    </tr>\n",
       "  </thead>\n",
       "  <tbody>\n",
       "    <tr>\n",
       "      <th>count</th>\n",
       "      <td>891.000000</td>\n",
       "      <td>891.000000</td>\n",
       "      <td>714.000000</td>\n",
       "      <td>891.000000</td>\n",
       "      <td>891.000000</td>\n",
       "      <td>891.000000</td>\n",
       "      <td>7.140000e+02</td>\n",
       "      <td>714.000000</td>\n",
       "    </tr>\n",
       "    <tr>\n",
       "      <th>mean</th>\n",
       "      <td>0.383838</td>\n",
       "      <td>2.308642</td>\n",
       "      <td>29.699118</td>\n",
       "      <td>0.523008</td>\n",
       "      <td>0.381594</td>\n",
       "      <td>32.204208</td>\n",
       "      <td>2.388379e-16</td>\n",
       "      <td>0.367921</td>\n",
       "    </tr>\n",
       "    <tr>\n",
       "      <th>std</th>\n",
       "      <td>0.486592</td>\n",
       "      <td>0.836071</td>\n",
       "      <td>14.526497</td>\n",
       "      <td>1.102743</td>\n",
       "      <td>0.806057</td>\n",
       "      <td>49.693429</td>\n",
       "      <td>1.000701e+00</td>\n",
       "      <td>0.182540</td>\n",
       "    </tr>\n",
       "    <tr>\n",
       "      <th>min</th>\n",
       "      <td>0.000000</td>\n",
       "      <td>1.000000</td>\n",
       "      <td>0.420000</td>\n",
       "      <td>0.000000</td>\n",
       "      <td>0.000000</td>\n",
       "      <td>0.000000</td>\n",
       "      <td>-2.016979e+00</td>\n",
       "      <td>0.000000</td>\n",
       "    </tr>\n",
       "    <tr>\n",
       "      <th>25%</th>\n",
       "      <td>0.000000</td>\n",
       "      <td>2.000000</td>\n",
       "      <td>20.125000</td>\n",
       "      <td>0.000000</td>\n",
       "      <td>0.000000</td>\n",
       "      <td>7.910400</td>\n",
       "      <td>-6.595416e-01</td>\n",
       "      <td>0.247612</td>\n",
       "    </tr>\n",
       "    <tr>\n",
       "      <th>50%</th>\n",
       "      <td>0.000000</td>\n",
       "      <td>3.000000</td>\n",
       "      <td>28.000000</td>\n",
       "      <td>0.000000</td>\n",
       "      <td>0.000000</td>\n",
       "      <td>14.454200</td>\n",
       "      <td>-1.170488e-01</td>\n",
       "      <td>0.346569</td>\n",
       "    </tr>\n",
       "    <tr>\n",
       "      <th>75%</th>\n",
       "      <td>1.000000</td>\n",
       "      <td>3.000000</td>\n",
       "      <td>38.000000</td>\n",
       "      <td>1.000000</td>\n",
       "      <td>0.000000</td>\n",
       "      <td>31.000000</td>\n",
       "      <td>5.718310e-01</td>\n",
       "      <td>0.472229</td>\n",
       "    </tr>\n",
       "    <tr>\n",
       "      <th>max</th>\n",
       "      <td>1.000000</td>\n",
       "      <td>3.000000</td>\n",
       "      <td>80.000000</td>\n",
       "      <td>8.000000</td>\n",
       "      <td>6.000000</td>\n",
       "      <td>512.329200</td>\n",
       "      <td>3.465126e+00</td>\n",
       "      <td>1.000000</td>\n",
       "    </tr>\n",
       "  </tbody>\n",
       "</table>\n",
       "</div>"
      ],
      "text/plain": [
       "         survived      pclass         age       sibsp       parch        fare  \\\n",
       "count  891.000000  891.000000  714.000000  891.000000  891.000000  891.000000   \n",
       "mean     0.383838    2.308642   29.699118    0.523008    0.381594   32.204208   \n",
       "std      0.486592    0.836071   14.526497    1.102743    0.806057   49.693429   \n",
       "min      0.000000    1.000000    0.420000    0.000000    0.000000    0.000000   \n",
       "25%      0.000000    2.000000   20.125000    0.000000    0.000000    7.910400   \n",
       "50%      0.000000    3.000000   28.000000    0.000000    0.000000   14.454200   \n",
       "75%      1.000000    3.000000   38.000000    1.000000    0.000000   31.000000   \n",
       "max      1.000000    3.000000   80.000000    8.000000    6.000000  512.329200   \n",
       "\n",
       "       Age_StandardScaler  MinMaxScaler  \n",
       "count        7.140000e+02    714.000000  \n",
       "mean         2.388379e-16      0.367921  \n",
       "std          1.000701e+00      0.182540  \n",
       "min         -2.016979e+00      0.000000  \n",
       "25%         -6.595416e-01      0.247612  \n",
       "50%         -1.170488e-01      0.346569  \n",
       "75%          5.718310e-01      0.472229  \n",
       "max          3.465126e+00      1.000000  "
      ]
     },
     "execution_count": 105,
     "metadata": {},
     "output_type": "execute_result"
    }
   ],
   "source": [
    "df.describe()"
   ]
  },
  {
   "cell_type": "code",
   "execution_count": 106,
   "id": "54a5ca69-de76-4a00-834a-5d44dc35e59f",
   "metadata": {},
   "outputs": [
    {
     "data": {
      "text/plain": [
       "<Axes: ylabel='Age_StandardScaler'>"
      ]
     },
     "execution_count": 106,
     "metadata": {},
     "output_type": "execute_result"
    },
    {
     "data": {
      "image/png": "[encoded data removed]",
      "text/plain": [
       "<Figure size 640x480 with 1 Axes>"
      ]
     },
     "metadata": {},
     "output_type": "display_data"
    }
   ],
   "source": [
    "sns.boxplot(df['Age_StandardScaler'])"
   ]
  },
  {
   "cell_type": "code",
   "execution_count": 107,
   "id": "b096173c-4b98-4c95-9ce1-2f5e912a82b8",
   "metadata": {},
   "outputs": [
    {
     "data": {
      "text/plain": [
       "<Axes: ylabel='MinMaxScaler'>"
      ]
     },
     "execution_count": 107,
     "metadata": {},
     "output_type": "execute_result"
    },
    {
     "data": {
      "image/png": "[encoded data removed]",
      "text/plain": [
       "<Figure size 640x480 with 1 Axes>"
      ]
     },
     "metadata": {},
     "output_type": "display_data"
    }
   ],
   "source": [
    "sns.boxplot(df['MinMaxScaler'])"
   ]
  },
  {
   "cell_type": "markdown",
   "id": "d2f10316-adf1-48d4-aa5d-29635a2e6494",
   "metadata": {},
   "source": [
    "# Task 3 Create equal-width and equal-frequency bins for an “Age” column in a dataset and visualize using histograms. "
   ]
  },
  {
   "cell_type": "code",
   "execution_count": 118,
   "id": "bae039ea-7c17-4ffa-9526-91f442d01811",
   "metadata": {},
   "outputs": [],
   "source": [
    "df['age_equal_width']=pd.cut(df['age'],bins=3,labels=['young','adult','old'])\n",
    "df['age_equal_frequency']=pd.qcut(df['age'],q=3,labels=['young','adult','old'])"
   ]
  },
  {
   "cell_type": "code",
   "execution_count": 119,
   "id": "72fb3ab3-b355-4886-bfa7-e9d68fd87263",
   "metadata": {},
   "outputs": [
    {
     "data": {
      "text/plain": [
       "<Axes: xlabel='age_equal_width', ylabel='Count'>"
      ]
     },
     "execution_count": 119,
     "metadata": {},
     "output_type": "execute_result"
    },
    {
     "data": {
      "image/png": "[encoded data removed]",
      "text/plain": [
       "<Figure size 640x480 with 1 Axes>"
      ]
     },
     "metadata": {},
     "output_type": "display_data"
    }
   ],
   "source": [
    "sns.histplot(df['age_equal_width'])"
   ]
  },
  {
   "cell_type": "code",
   "execution_count": 120,
   "id": "91939cd6-9bbf-462f-a249-8764eabf8f3f",
   "metadata": {},
   "outputs": [
    {
     "data": {
      "text/plain": [
       "<Axes: xlabel='age_equal_frequency', ylabel='Count'>"
      ]
     },
     "execution_count": 120,
     "metadata": {},
     "output_type": "execute_result"
    },
    {
     "data": {
      "image/png": "[encoded data removed]",
      "text/plain": [
       "<Figure size 640x480 with 1 Axes>"
      ]
     },
     "metadata": {},
     "output_type": "display_data"
    }
   ],
   "source": [
    "sns.histplot(df['age_equal_frequency'])"
   ]
  },
  {
   "cell_type": "markdown",
   "id": "76b9b1c1-de65-41c7-a20a-3f3cc8859ea7",
   "metadata": {},
   "source": [
    "# Task 4 Create custom bins for a “Salary” column — for example: Low (<30K), Medium (30K–70K), High (>70K) — and encode them using OrdinalEncoder. "
   ]
  },
  {
   "cell_type": "code",
   "execution_count": 122,
   "id": "4ab91dba-3442-4a15-b937-8952ca18c322",
   "metadata": {},
   "outputs": [],
   "source": [
    "custom=[0,20,40,60]\n",
    "df['age_custom']=pd.cut(df['age'],bins=custom,labels=['young','adult','old'])\n"
   ]
  },
  {
   "cell_type": "code",
   "execution_count": 123,
   "id": "a905223e-0809-4ae5-8b97-af487862c091",
   "metadata": {},
   "outputs": [
    {
     "data": {
      "text/plain": [
       "<Axes: xlabel='age_custom', ylabel='Count'>"
      ]
     },
     "execution_count": 123,
     "metadata": {},
     "output_type": "execute_result"
    },
    {
     "data": {
      "image/png": "[encoded data removed]",
      "text/plain": [
       "<Figure size 640x480 with 1 Axes>"
      ]
     },
     "metadata": {},
     "output_type": "display_data"
    }
   ],
   "source": [
    "sns.histplot(df['age_custom'])"
   ]
  },
  {
   "cell_type": "code",
   "execution_count": 124,
   "id": "1bacf041-68be-4467-b83a-2d5ae2736246",
   "metadata": {},
   "outputs": [],
   "source": [
    "OE=OrdinalEncoder()\n",
    "df['age_custom']=OE.fit_transform(df[['age_custom']])\n"
   ]
  },
  {
   "cell_type": "code",
   "execution_count": 126,
   "id": "b97a49f9-aa1b-4f84-ad82-134b2ca5d61b",
   "metadata": {},
   "outputs": [
    {
     "data": {
      "text/plain": [
       "np.int64(199)"
      ]
     },
     "execution_count": 126,
     "metadata": {},
     "output_type": "execute_result"
    }
   ],
   "source": [
    "df['age_custom'].isna().sum()"
   ]
  }
 ],
 "metadata": {
  "kernelspec": {
   "display_name": "Python 3 (ipykernel)",
   "language": "python",
   "name": "python3"
  },
  "language_info": {
   "codemirror_mode": {
    "name": "ipython",
    "version": 3
   },
   "file_extension": ".py",
   "mimetype": "text/x-python",
   "name": "python",
   "nbconvert_exporter": "python",
   "pygments_lexer": "ipython3",
   "version": "3.13.5"
  }
 },
 "nbformat": 4,
 "nbformat_minor": 5
}
